{
 "cells": [
  {
   "cell_type": "code",
   "execution_count": 1,
   "id": "6e13f679",
   "metadata": {},
   "outputs": [],
   "source": [
    "import pandas as pd\n",
    "import numpy as np\n",
    "import seaborn as sns\n",
    "import matplotlib.pyplot as plt"
   ]
  },
  {
   "cell_type": "code",
   "execution_count": 2,
   "id": "e5a43870",
   "metadata": {},
   "outputs": [],
   "source": [
    "df= pd.read_csv(r\"C:\\Users\\zuz12\\OneDrive\\Desktop\\personality_prediction\\personality_dataset.csv\")\n"
   ]
  },
  {
   "cell_type": "code",
   "execution_count": 3,
   "id": "37ad36d2",
   "metadata": {},
   "outputs": [
    {
     "data": {
      "application/vnd.microsoft.datawrangler.viewer.v0+json": {
       "columns": [
        {
         "name": "index",
         "rawType": "int64",
         "type": "integer"
        },
        {
         "name": "Time_spent_Alone",
         "rawType": "float64",
         "type": "float"
        },
        {
         "name": "Stage_fear",
         "rawType": "object",
         "type": "string"
        },
        {
         "name": "Social_event_attendance",
         "rawType": "float64",
         "type": "float"
        },
        {
         "name": "Going_outside",
         "rawType": "float64",
         "type": "float"
        },
        {
         "name": "Drained_after_socializing",
         "rawType": "object",
         "type": "string"
        },
        {
         "name": "Friends_circle_size",
         "rawType": "float64",
         "type": "float"
        },
        {
         "name": "Post_frequency",
         "rawType": "float64",
         "type": "float"
        },
        {
         "name": "Personality",
         "rawType": "object",
         "type": "string"
        }
       ],
       "ref": "e3515eb1-3a85-4695-be02-89be8e90281d",
       "rows": [
        [
         "0",
         "4.0",
         "No",
         "4.0",
         "6.0",
         "No",
         "13.0",
         "5.0",
         "Extrovert"
        ],
        [
         "1",
         "9.0",
         "Yes",
         "0.0",
         "0.0",
         "Yes",
         "0.0",
         "3.0",
         "Introvert"
        ],
        [
         "2",
         "9.0",
         "Yes",
         "1.0",
         "2.0",
         "Yes",
         "5.0",
         "2.0",
         "Introvert"
        ],
        [
         "3",
         "0.0",
         "No",
         "6.0",
         "7.0",
         "No",
         "14.0",
         "8.0",
         "Extrovert"
        ],
        [
         "4",
         "3.0",
         "No",
         "9.0",
         "4.0",
         "No",
         "8.0",
         "5.0",
         "Extrovert"
        ]
       ],
       "shape": {
        "columns": 8,
        "rows": 5
       }
      },
      "text/html": [
       "<div>\n",
       "<style scoped>\n",
       "    .dataframe tbody tr th:only-of-type {\n",
       "        vertical-align: middle;\n",
       "    }\n",
       "\n",
       "    .dataframe tbody tr th {\n",
       "        vertical-align: top;\n",
       "    }\n",
       "\n",
       "    .dataframe thead th {\n",
       "        text-align: right;\n",
       "    }\n",
       "</style>\n",
       "<table border=\"1\" class=\"dataframe\">\n",
       "  <thead>\n",
       "    <tr style=\"text-align: right;\">\n",
       "      <th></th>\n",
       "      <th>Time_spent_Alone</th>\n",
       "      <th>Stage_fear</th>\n",
       "      <th>Social_event_attendance</th>\n",
       "      <th>Going_outside</th>\n",
       "      <th>Drained_after_socializing</th>\n",
       "      <th>Friends_circle_size</th>\n",
       "      <th>Post_frequency</th>\n",
       "      <th>Personality</th>\n",
       "    </tr>\n",
       "  </thead>\n",
       "  <tbody>\n",
       "    <tr>\n",
       "      <th>0</th>\n",
       "      <td>4.0</td>\n",
       "      <td>No</td>\n",
       "      <td>4.0</td>\n",
       "      <td>6.0</td>\n",
       "      <td>No</td>\n",
       "      <td>13.0</td>\n",
       "      <td>5.0</td>\n",
       "      <td>Extrovert</td>\n",
       "    </tr>\n",
       "    <tr>\n",
       "      <th>1</th>\n",
       "      <td>9.0</td>\n",
       "      <td>Yes</td>\n",
       "      <td>0.0</td>\n",
       "      <td>0.0</td>\n",
       "      <td>Yes</td>\n",
       "      <td>0.0</td>\n",
       "      <td>3.0</td>\n",
       "      <td>Introvert</td>\n",
       "    </tr>\n",
       "    <tr>\n",
       "      <th>2</th>\n",
       "      <td>9.0</td>\n",
       "      <td>Yes</td>\n",
       "      <td>1.0</td>\n",
       "      <td>2.0</td>\n",
       "      <td>Yes</td>\n",
       "      <td>5.0</td>\n",
       "      <td>2.0</td>\n",
       "      <td>Introvert</td>\n",
       "    </tr>\n",
       "    <tr>\n",
       "      <th>3</th>\n",
       "      <td>0.0</td>\n",
       "      <td>No</td>\n",
       "      <td>6.0</td>\n",
       "      <td>7.0</td>\n",
       "      <td>No</td>\n",
       "      <td>14.0</td>\n",
       "      <td>8.0</td>\n",
       "      <td>Extrovert</td>\n",
       "    </tr>\n",
       "    <tr>\n",
       "      <th>4</th>\n",
       "      <td>3.0</td>\n",
       "      <td>No</td>\n",
       "      <td>9.0</td>\n",
       "      <td>4.0</td>\n",
       "      <td>No</td>\n",
       "      <td>8.0</td>\n",
       "      <td>5.0</td>\n",
       "      <td>Extrovert</td>\n",
       "    </tr>\n",
       "  </tbody>\n",
       "</table>\n",
       "</div>"
      ],
      "text/plain": [
       "   Time_spent_Alone Stage_fear  Social_event_attendance  Going_outside  \\\n",
       "0               4.0         No                      4.0            6.0   \n",
       "1               9.0        Yes                      0.0            0.0   \n",
       "2               9.0        Yes                      1.0            2.0   \n",
       "3               0.0         No                      6.0            7.0   \n",
       "4               3.0         No                      9.0            4.0   \n",
       "\n",
       "  Drained_after_socializing  Friends_circle_size  Post_frequency Personality  \n",
       "0                        No                 13.0             5.0   Extrovert  \n",
       "1                       Yes                  0.0             3.0   Introvert  \n",
       "2                       Yes                  5.0             2.0   Introvert  \n",
       "3                        No                 14.0             8.0   Extrovert  \n",
       "4                        No                  8.0             5.0   Extrovert  "
      ]
     },
     "execution_count": 3,
     "metadata": {},
     "output_type": "execute_result"
    }
   ],
   "source": [
    "df.head()"
   ]
  },
  {
   "cell_type": "code",
   "execution_count": 4,
   "id": "de81450c",
   "metadata": {},
   "outputs": [
    {
     "data": {
      "application/vnd.microsoft.datawrangler.viewer.v0+json": {
       "columns": [
        {
         "name": "index",
         "rawType": "object",
         "type": "string"
        },
        {
         "name": "Time_spent_Alone",
         "rawType": "float64",
         "type": "float"
        },
        {
         "name": "Social_event_attendance",
         "rawType": "float64",
         "type": "float"
        },
        {
         "name": "Going_outside",
         "rawType": "float64",
         "type": "float"
        },
        {
         "name": "Friends_circle_size",
         "rawType": "float64",
         "type": "float"
        },
        {
         "name": "Post_frequency",
         "rawType": "float64",
         "type": "float"
        }
       ],
       "ref": "5969ee4b-4d73-4b47-ba5e-9b8da815c2ac",
       "rows": [
        [
         "count",
         "2837.0",
         "2838.0",
         "2834.0",
         "2823.0",
         "2835.0"
        ],
        [
         "mean",
         "4.505816002819881",
         "3.963354474982382",
         "3.0",
         "6.268862911795962",
         "3.564726631393298"
        ],
        [
         "std",
         "3.479192331454265",
         "2.903827337496429",
         "2.247326528711436",
         "4.289692830709211",
         "2.9265817890397443"
        ],
        [
         "min",
         "0.0",
         "0.0",
         "0.0",
         "0.0",
         "0.0"
        ],
        [
         "25%",
         "2.0",
         "2.0",
         "1.0",
         "3.0",
         "1.0"
        ],
        [
         "50%",
         "4.0",
         "3.0",
         "3.0",
         "5.0",
         "3.0"
        ],
        [
         "75%",
         "8.0",
         "6.0",
         "5.0",
         "10.0",
         "6.0"
        ],
        [
         "max",
         "11.0",
         "10.0",
         "7.0",
         "15.0",
         "10.0"
        ]
       ],
       "shape": {
        "columns": 5,
        "rows": 8
       }
      },
      "text/html": [
       "<div>\n",
       "<style scoped>\n",
       "    .dataframe tbody tr th:only-of-type {\n",
       "        vertical-align: middle;\n",
       "    }\n",
       "\n",
       "    .dataframe tbody tr th {\n",
       "        vertical-align: top;\n",
       "    }\n",
       "\n",
       "    .dataframe thead th {\n",
       "        text-align: right;\n",
       "    }\n",
       "</style>\n",
       "<table border=\"1\" class=\"dataframe\">\n",
       "  <thead>\n",
       "    <tr style=\"text-align: right;\">\n",
       "      <th></th>\n",
       "      <th>Time_spent_Alone</th>\n",
       "      <th>Social_event_attendance</th>\n",
       "      <th>Going_outside</th>\n",
       "      <th>Friends_circle_size</th>\n",
       "      <th>Post_frequency</th>\n",
       "    </tr>\n",
       "  </thead>\n",
       "  <tbody>\n",
       "    <tr>\n",
       "      <th>count</th>\n",
       "      <td>2837.000000</td>\n",
       "      <td>2838.000000</td>\n",
       "      <td>2834.000000</td>\n",
       "      <td>2823.000000</td>\n",
       "      <td>2835.000000</td>\n",
       "    </tr>\n",
       "    <tr>\n",
       "      <th>mean</th>\n",
       "      <td>4.505816</td>\n",
       "      <td>3.963354</td>\n",
       "      <td>3.000000</td>\n",
       "      <td>6.268863</td>\n",
       "      <td>3.564727</td>\n",
       "    </tr>\n",
       "    <tr>\n",
       "      <th>std</th>\n",
       "      <td>3.479192</td>\n",
       "      <td>2.903827</td>\n",
       "      <td>2.247327</td>\n",
       "      <td>4.289693</td>\n",
       "      <td>2.926582</td>\n",
       "    </tr>\n",
       "    <tr>\n",
       "      <th>min</th>\n",
       "      <td>0.000000</td>\n",
       "      <td>0.000000</td>\n",
       "      <td>0.000000</td>\n",
       "      <td>0.000000</td>\n",
       "      <td>0.000000</td>\n",
       "    </tr>\n",
       "    <tr>\n",
       "      <th>25%</th>\n",
       "      <td>2.000000</td>\n",
       "      <td>2.000000</td>\n",
       "      <td>1.000000</td>\n",
       "      <td>3.000000</td>\n",
       "      <td>1.000000</td>\n",
       "    </tr>\n",
       "    <tr>\n",
       "      <th>50%</th>\n",
       "      <td>4.000000</td>\n",
       "      <td>3.000000</td>\n",
       "      <td>3.000000</td>\n",
       "      <td>5.000000</td>\n",
       "      <td>3.000000</td>\n",
       "    </tr>\n",
       "    <tr>\n",
       "      <th>75%</th>\n",
       "      <td>8.000000</td>\n",
       "      <td>6.000000</td>\n",
       "      <td>5.000000</td>\n",
       "      <td>10.000000</td>\n",
       "      <td>6.000000</td>\n",
       "    </tr>\n",
       "    <tr>\n",
       "      <th>max</th>\n",
       "      <td>11.000000</td>\n",
       "      <td>10.000000</td>\n",
       "      <td>7.000000</td>\n",
       "      <td>15.000000</td>\n",
       "      <td>10.000000</td>\n",
       "    </tr>\n",
       "  </tbody>\n",
       "</table>\n",
       "</div>"
      ],
      "text/plain": [
       "       Time_spent_Alone  Social_event_attendance  Going_outside  \\\n",
       "count       2837.000000              2838.000000    2834.000000   \n",
       "mean           4.505816                 3.963354       3.000000   \n",
       "std            3.479192                 2.903827       2.247327   \n",
       "min            0.000000                 0.000000       0.000000   \n",
       "25%            2.000000                 2.000000       1.000000   \n",
       "50%            4.000000                 3.000000       3.000000   \n",
       "75%            8.000000                 6.000000       5.000000   \n",
       "max           11.000000                10.000000       7.000000   \n",
       "\n",
       "       Friends_circle_size  Post_frequency  \n",
       "count          2823.000000     2835.000000  \n",
       "mean              6.268863        3.564727  \n",
       "std               4.289693        2.926582  \n",
       "min               0.000000        0.000000  \n",
       "25%               3.000000        1.000000  \n",
       "50%               5.000000        3.000000  \n",
       "75%              10.000000        6.000000  \n",
       "max              15.000000       10.000000  "
      ]
     },
     "execution_count": 4,
     "metadata": {},
     "output_type": "execute_result"
    }
   ],
   "source": [
    "df.describe()"
   ]
  },
  {
   "cell_type": "code",
   "execution_count": 5,
   "id": "c9052976",
   "metadata": {},
   "outputs": [
    {
     "name": "stdout",
     "output_type": "stream",
     "text": [
      "<class 'pandas.core.frame.DataFrame'>\n",
      "RangeIndex: 2900 entries, 0 to 2899\n",
      "Data columns (total 8 columns):\n",
      " #   Column                     Non-Null Count  Dtype  \n",
      "---  ------                     --------------  -----  \n",
      " 0   Time_spent_Alone           2837 non-null   float64\n",
      " 1   Stage_fear                 2827 non-null   object \n",
      " 2   Social_event_attendance    2838 non-null   float64\n",
      " 3   Going_outside              2834 non-null   float64\n",
      " 4   Drained_after_socializing  2848 non-null   object \n",
      " 5   Friends_circle_size        2823 non-null   float64\n",
      " 6   Post_frequency             2835 non-null   float64\n",
      " 7   Personality                2900 non-null   object \n",
      "dtypes: float64(5), object(3)\n",
      "memory usage: 181.4+ KB\n"
     ]
    }
   ],
   "source": [
    "df.info()"
   ]
  },
  {
   "cell_type": "code",
   "execution_count": 6,
   "id": "fa85c638",
   "metadata": {},
   "outputs": [
    {
     "data": {
      "application/vnd.microsoft.datawrangler.viewer.v0+json": {
       "columns": [
        {
         "name": "index",
         "rawType": "object",
         "type": "string"
        },
        {
         "name": "0",
         "rawType": "int64",
         "type": "integer"
        }
       ],
       "ref": "2b0378e5-d2ed-4b0b-98e4-a0f1b1833032",
       "rows": [
        [
         "Time_spent_Alone",
         "63"
        ],
        [
         "Stage_fear",
         "73"
        ],
        [
         "Social_event_attendance",
         "62"
        ],
        [
         "Going_outside",
         "66"
        ],
        [
         "Drained_after_socializing",
         "52"
        ],
        [
         "Friends_circle_size",
         "77"
        ],
        [
         "Post_frequency",
         "65"
        ],
        [
         "Personality",
         "0"
        ]
       ],
       "shape": {
        "columns": 1,
        "rows": 8
       }
      },
      "text/plain": [
       "Time_spent_Alone             63\n",
       "Stage_fear                   73\n",
       "Social_event_attendance      62\n",
       "Going_outside                66\n",
       "Drained_after_socializing    52\n",
       "Friends_circle_size          77\n",
       "Post_frequency               65\n",
       "Personality                   0\n",
       "dtype: int64"
      ]
     },
     "execution_count": 6,
     "metadata": {},
     "output_type": "execute_result"
    }
   ],
   "source": [
    "df.isnull().sum()"
   ]
  },
  {
   "cell_type": "code",
   "execution_count": 8,
   "id": "032ae79f",
   "metadata": {},
   "outputs": [],
   "source": [
    "missing_percent = df.isnull().mean() * 100"
   ]
  },
  {
   "cell_type": "code",
   "execution_count": 9,
   "id": "94c07122",
   "metadata": {},
   "outputs": [
    {
     "data": {
      "application/vnd.microsoft.datawrangler.viewer.v0+json": {
       "columns": [
        {
         "name": "index",
         "rawType": "object",
         "type": "string"
        },
        {
         "name": "0",
         "rawType": "float64",
         "type": "float"
        }
       ],
       "ref": "8e9e8f4c-ba3a-428c-a8ac-48b100e8a540",
       "rows": [
        [
         "Time_spent_Alone",
         "2.1724137931034484"
        ],
        [
         "Stage_fear",
         "2.5172413793103448"
        ],
        [
         "Social_event_attendance",
         "2.1379310344827585"
        ],
        [
         "Going_outside",
         "2.2758620689655173"
        ],
        [
         "Drained_after_socializing",
         "1.7931034482758619"
        ],
        [
         "Friends_circle_size",
         "2.655172413793103"
        ],
        [
         "Post_frequency",
         "2.2413793103448274"
        ],
        [
         "Personality",
         "0.0"
        ]
       ],
       "shape": {
        "columns": 1,
        "rows": 8
       }
      },
      "text/plain": [
       "Time_spent_Alone             2.172414\n",
       "Stage_fear                   2.517241\n",
       "Social_event_attendance      2.137931\n",
       "Going_outside                2.275862\n",
       "Drained_after_socializing    1.793103\n",
       "Friends_circle_size          2.655172\n",
       "Post_frequency               2.241379\n",
       "Personality                  0.000000\n",
       "dtype: float64"
      ]
     },
     "execution_count": 9,
     "metadata": {},
     "output_type": "execute_result"
    }
   ],
   "source": [
    "missing_percent"
   ]
  },
  {
   "cell_type": "code",
   "execution_count": 10,
   "id": "9a22d25e",
   "metadata": {},
   "outputs": [
    {
     "data": {
      "text/plain": [
       "np.float64(1.9741379310344827)"
      ]
     },
     "execution_count": 10,
     "metadata": {},
     "output_type": "execute_result"
    }
   ],
   "source": [
    "overall_missing_percent = df.isnull().sum().sum() / (df.shape[0] * df.shape[1]) * 100\n",
    "overall_missing_percent"
   ]
  },
  {
   "cell_type": "code",
   "execution_count": 11,
   "id": "333fd090",
   "metadata": {},
   "outputs": [
    {
     "data": {
      "application/vnd.microsoft.datawrangler.viewer.v0+json": {
       "columns": [
        {
         "name": "index",
         "rawType": "int64",
         "type": "integer"
        },
        {
         "name": "Time_spent_Alone",
         "rawType": "float64",
         "type": "float"
        },
        {
         "name": "Stage_fear",
         "rawType": "object",
         "type": "string"
        },
        {
         "name": "Social_event_attendance",
         "rawType": "float64",
         "type": "float"
        },
        {
         "name": "Going_outside",
         "rawType": "float64",
         "type": "float"
        },
        {
         "name": "Drained_after_socializing",
         "rawType": "object",
         "type": "string"
        },
        {
         "name": "Friends_circle_size",
         "rawType": "float64",
         "type": "float"
        },
        {
         "name": "Post_frequency",
         "rawType": "float64",
         "type": "float"
        },
        {
         "name": "Personality",
         "rawType": "object",
         "type": "string"
        }
       ],
       "ref": "627450d5-d273-42e0-a89a-8a8baeb98703",
       "rows": [
        [
         "0",
         "4.0",
         "No",
         "4.0",
         "6.0",
         "No",
         "13.0",
         "5.0",
         "Extrovert"
        ],
        [
         "1",
         "9.0",
         "Yes",
         "0.0",
         "0.0",
         "Yes",
         "0.0",
         "3.0",
         "Introvert"
        ],
        [
         "2",
         "9.0",
         "Yes",
         "1.0",
         "2.0",
         "Yes",
         "5.0",
         "2.0",
         "Introvert"
        ],
        [
         "3",
         "0.0",
         "No",
         "6.0",
         "7.0",
         "No",
         "14.0",
         "8.0",
         "Extrovert"
        ],
        [
         "4",
         "3.0",
         "No",
         "9.0",
         "4.0",
         "No",
         "8.0",
         "5.0",
         "Extrovert"
        ]
       ],
       "shape": {
        "columns": 8,
        "rows": 5
       }
      },
      "text/html": [
       "<div>\n",
       "<style scoped>\n",
       "    .dataframe tbody tr th:only-of-type {\n",
       "        vertical-align: middle;\n",
       "    }\n",
       "\n",
       "    .dataframe tbody tr th {\n",
       "        vertical-align: top;\n",
       "    }\n",
       "\n",
       "    .dataframe thead th {\n",
       "        text-align: right;\n",
       "    }\n",
       "</style>\n",
       "<table border=\"1\" class=\"dataframe\">\n",
       "  <thead>\n",
       "    <tr style=\"text-align: right;\">\n",
       "      <th></th>\n",
       "      <th>Time_spent_Alone</th>\n",
       "      <th>Stage_fear</th>\n",
       "      <th>Social_event_attendance</th>\n",
       "      <th>Going_outside</th>\n",
       "      <th>Drained_after_socializing</th>\n",
       "      <th>Friends_circle_size</th>\n",
       "      <th>Post_frequency</th>\n",
       "      <th>Personality</th>\n",
       "    </tr>\n",
       "  </thead>\n",
       "  <tbody>\n",
       "    <tr>\n",
       "      <th>0</th>\n",
       "      <td>4.0</td>\n",
       "      <td>No</td>\n",
       "      <td>4.0</td>\n",
       "      <td>6.0</td>\n",
       "      <td>No</td>\n",
       "      <td>13.0</td>\n",
       "      <td>5.0</td>\n",
       "      <td>Extrovert</td>\n",
       "    </tr>\n",
       "    <tr>\n",
       "      <th>1</th>\n",
       "      <td>9.0</td>\n",
       "      <td>Yes</td>\n",
       "      <td>0.0</td>\n",
       "      <td>0.0</td>\n",
       "      <td>Yes</td>\n",
       "      <td>0.0</td>\n",
       "      <td>3.0</td>\n",
       "      <td>Introvert</td>\n",
       "    </tr>\n",
       "    <tr>\n",
       "      <th>2</th>\n",
       "      <td>9.0</td>\n",
       "      <td>Yes</td>\n",
       "      <td>1.0</td>\n",
       "      <td>2.0</td>\n",
       "      <td>Yes</td>\n",
       "      <td>5.0</td>\n",
       "      <td>2.0</td>\n",
       "      <td>Introvert</td>\n",
       "    </tr>\n",
       "    <tr>\n",
       "      <th>3</th>\n",
       "      <td>0.0</td>\n",
       "      <td>No</td>\n",
       "      <td>6.0</td>\n",
       "      <td>7.0</td>\n",
       "      <td>No</td>\n",
       "      <td>14.0</td>\n",
       "      <td>8.0</td>\n",
       "      <td>Extrovert</td>\n",
       "    </tr>\n",
       "    <tr>\n",
       "      <th>4</th>\n",
       "      <td>3.0</td>\n",
       "      <td>No</td>\n",
       "      <td>9.0</td>\n",
       "      <td>4.0</td>\n",
       "      <td>No</td>\n",
       "      <td>8.0</td>\n",
       "      <td>5.0</td>\n",
       "      <td>Extrovert</td>\n",
       "    </tr>\n",
       "  </tbody>\n",
       "</table>\n",
       "</div>"
      ],
      "text/plain": [
       "   Time_spent_Alone Stage_fear  Social_event_attendance  Going_outside  \\\n",
       "0               4.0         No                      4.0            6.0   \n",
       "1               9.0        Yes                      0.0            0.0   \n",
       "2               9.0        Yes                      1.0            2.0   \n",
       "3               0.0         No                      6.0            7.0   \n",
       "4               3.0         No                      9.0            4.0   \n",
       "\n",
       "  Drained_after_socializing  Friends_circle_size  Post_frequency Personality  \n",
       "0                        No                 13.0             5.0   Extrovert  \n",
       "1                       Yes                  0.0             3.0   Introvert  \n",
       "2                       Yes                  5.0             2.0   Introvert  \n",
       "3                        No                 14.0             8.0   Extrovert  \n",
       "4                        No                  8.0             5.0   Extrovert  "
      ]
     },
     "execution_count": 11,
     "metadata": {},
     "output_type": "execute_result"
    }
   ],
   "source": [
    "df.head()"
   ]
  },
  {
   "cell_type": "code",
   "execution_count": 12,
   "id": "00e439bf",
   "metadata": {},
   "outputs": [
    {
     "data": {
      "application/vnd.microsoft.datawrangler.viewer.v0+json": {
       "columns": [
        {
         "name": "('Personality', 'Stage_fear')",
         "rawType": "object",
         "type": "unknown"
        },
        {
         "name": "Time_spent_Alone",
         "rawType": "float64",
         "type": "float"
        }
       ],
       "ref": "14b213ab-e738-480b-8ec1-3f1357b3f904",
       "rows": [
        [
         "('Extrovert', 'No')",
         "1.552833078101072"
        ],
        [
         "('Extrovert', 'Yes')",
         "8.427272727272728"
        ],
        [
         "('Introvert', 'No')",
         "1.205128205128205"
        ],
        [
         "('Introvert', 'Yes')",
         "7.4359780047132755"
        ]
       ],
       "shape": {
        "columns": 1,
        "rows": 4
       }
      },
      "text/html": [
       "<div>\n",
       "<style scoped>\n",
       "    .dataframe tbody tr th:only-of-type {\n",
       "        vertical-align: middle;\n",
       "    }\n",
       "\n",
       "    .dataframe tbody tr th {\n",
       "        vertical-align: top;\n",
       "    }\n",
       "\n",
       "    .dataframe thead th {\n",
       "        text-align: right;\n",
       "    }\n",
       "</style>\n",
       "<table border=\"1\" class=\"dataframe\">\n",
       "  <thead>\n",
       "    <tr style=\"text-align: right;\">\n",
       "      <th></th>\n",
       "      <th></th>\n",
       "      <th>Time_spent_Alone</th>\n",
       "    </tr>\n",
       "    <tr>\n",
       "      <th>Personality</th>\n",
       "      <th>Stage_fear</th>\n",
       "      <th></th>\n",
       "    </tr>\n",
       "  </thead>\n",
       "  <tbody>\n",
       "    <tr>\n",
       "      <th rowspan=\"2\" valign=\"top\">Extrovert</th>\n",
       "      <th>No</th>\n",
       "      <td>1.552833</td>\n",
       "    </tr>\n",
       "    <tr>\n",
       "      <th>Yes</th>\n",
       "      <td>8.427273</td>\n",
       "    </tr>\n",
       "    <tr>\n",
       "      <th rowspan=\"2\" valign=\"top\">Introvert</th>\n",
       "      <th>No</th>\n",
       "      <td>1.205128</td>\n",
       "    </tr>\n",
       "    <tr>\n",
       "      <th>Yes</th>\n",
       "      <td>7.435978</td>\n",
       "    </tr>\n",
       "  </tbody>\n",
       "</table>\n",
       "</div>"
      ],
      "text/plain": [
       "                        Time_spent_Alone\n",
       "Personality Stage_fear                  \n",
       "Extrovert   No                  1.552833\n",
       "            Yes                 8.427273\n",
       "Introvert   No                  1.205128\n",
       "            Yes                 7.435978"
      ]
     },
     "execution_count": 12,
     "metadata": {},
     "output_type": "execute_result"
    }
   ],
   "source": [
    "# avg time that personality spend alone \n",
    "q1=df.groupby([\"Personality\",\"Stage_fear\"]).aggregate({\"Time_spent_Alone\":\"mean\"})\n",
    "q1\n"
   ]
  },
  {
   "cell_type": "code",
   "execution_count": 13,
   "id": "6ea2a1ef",
   "metadata": {},
   "outputs": [
    {
     "data": {
      "image/png": "[encoded data removed]",
      "text/plain": [
       "<Figure size 640x480 with 1 Axes>"
      ]
     },
     "metadata": {},
     "output_type": "display_data"
    }
   ],
   "source": [
    "q1.plot(kind=\"bar\",legend=False)\n",
    "plt.title(\"avg time spend alone for each personality \")\n",
    "plt.xlabel(\"personality,stage of fear\")\n",
    "plt.ylabel(\"avg time\")\n",
    "plt.show()"
   ]
  },
  {
   "cell_type": "code",
   "execution_count": 14,
   "id": "6edf22e9",
   "metadata": {},
   "outputs": [],
   "source": [
    "# avg of Social_event_attendance for stage fear\n",
    "q2=df.groupby(\"Stage_fear\").aggregate({\"Social_event_attendance\":\"mean\"})"
   ]
  },
  {
   "cell_type": "code",
   "execution_count": 15,
   "id": "1cda55d0",
   "metadata": {},
   "outputs": [
    {
     "data": {
      "image/png": "[encoded data removed]",
      "text/plain": [
       "<Figure size 640x480 with 1 Axes>"
      ]
     },
     "metadata": {},
     "output_type": "display_data"
    }
   ],
   "source": [
    "q2.plot(kind=\"bar\",legend=False)\n",
    "plt.title(\"avg of Social_event_attendance for stage fear\")\n",
    "plt.xlabel(\"fear stage\")\n",
    "plt.ylabel(\"avg social attendace\")\n",
    "plt.show()"
   ]
  },
  {
   "cell_type": "code",
   "execution_count": 16,
   "id": "bb2169d2",
   "metadata": {},
   "outputs": [
    {
     "data": {
      "text/plain": [
       "Index(['Time_spent_Alone', 'Social_event_attendance', 'Going_outside',\n",
       "       'Friends_circle_size', 'Post_frequency'],\n",
       "      dtype='object')"
      ]
     },
     "execution_count": 16,
     "metadata": {},
     "output_type": "execute_result"
    }
   ],
   "source": [
    "num_col=df.select_dtypes(include=[\"int\",\"float\"]).columns\n",
    "num_col"
   ]
  },
  {
   "cell_type": "code",
   "execution_count": 17,
   "id": "9316e5ce",
   "metadata": {},
   "outputs": [],
   "source": [
    "obj_col=df.select_dtypes(\"object\").columns\n",
    "num_col=df.select_dtypes(include=[\"int\",\"float\"]).columns\n"
   ]
  },
  {
   "cell_type": "markdown",
   "id": "8cf82c48",
   "metadata": {},
   "source": [
    "# eda 2"
   ]
  },
  {
   "cell_type": "code",
   "execution_count": 18,
   "id": "b5e053fd",
   "metadata": {},
   "outputs": [
    {
     "data": {
      "image/png": "[encoded data removed]",
      "text/plain": [
       "<Figure size 640x480 with 1 Axes>"
      ]
     },
     "metadata": {},
     "output_type": "display_data"
    },
    {
     "data": {
      "image/png": "[encoded data removed]",
      "text/plain": [
       "<Figure size 640x480 with 1 Axes>"
      ]
     },
     "metadata": {},
     "output_type": "display_data"
    },
    {
     "data": {
      "image/png": "[encoded data removed]",
      "text/plain": [
       "<Figure size 640x480 with 1 Axes>"
      ]
     },
     "metadata": {},
     "output_type": "display_data"
    },
    {
     "data": {
      "image/png": "[encoded data removed]",
      "text/plain": [
       "<Figure size 640x480 with 1 Axes>"
      ]
     },
     "metadata": {},
     "output_type": "display_data"
    },
    {
     "data": {
      "image/png": "[encoded data removed]",
      "text/plain": [
       "<Figure size 640x480 with 1 Axes>"
      ]
     },
     "metadata": {},
     "output_type": "display_data"
    },
    {
     "data": {
      "image/png": "[encoded data removed]",
      "text/plain": [
       "<Figure size 640x480 with 1 Axes>"
      ]
     },
     "metadata": {},
     "output_type": "display_data"
    },
    {
     "data": {
      "image/png": "[encoded data removed]",
      "text/plain": [
       "<Figure size 640x480 with 1 Axes>"
      ]
     },
     "metadata": {},
     "output_type": "display_data"
    },
    {
     "data": {
      "image/png": "[encoded data removed]",
      "text/plain": [
       "<Figure size 640x480 with 1 Axes>"
      ]
     },
     "metadata": {},
     "output_type": "display_data"
    },
    {
     "data": {
      "image/png": "[encoded data removed]",
      "text/plain": [
       "<Figure size 640x480 with 1 Axes>"
      ]
     },
     "metadata": {},
     "output_type": "display_data"
    },
    {
     "data": {
      "image/png": "[encoded data removed]",
      "text/plain": [
       "<Figure size 640x480 with 1 Axes>"
      ]
     },
     "metadata": {},
     "output_type": "display_data"
    },
    {
     "data": {
      "image/png": "[encoded data removed]",
      "text/plain": [
       "<Figure size 640x480 with 1 Axes>"
      ]
     },
     "metadata": {},
     "output_type": "display_data"
    },
    {
     "data": {
      "image/png": "[encoded data removed]",
      "text/plain": [
       "<Figure size 640x480 with 1 Axes>"
      ]
     },
     "metadata": {},
     "output_type": "display_data"
    },
    {
     "data": {
      "image/png": "[encoded data removed]",
      "text/plain": [
       "<Figure size 640x480 with 1 Axes>"
      ]
     },
     "metadata": {},
     "output_type": "display_data"
    },
    {
     "data": {
      "image/png": "[encoded data removed]",
      "text/plain": [
       "<Figure size 640x480 with 1 Axes>"
      ]
     },
     "metadata": {},
     "output_type": "display_data"
    },
    {
     "data": {
      "image/png": "[encoded data removed]",
      "text/plain": [
       "<Figure size 640x480 with 1 Axes>"
      ]
     },
     "metadata": {},
     "output_type": "display_data"
    }
   ],
   "source": [
    "obj_col=df.select_dtypes(\"object\").columns\n",
    "num_col=df.select_dtypes(include=[\"int\",\"float\"]).columns\n",
    "for obj in obj_col:\n",
    "    for num in num_col:\n",
    "        sns.barplot(x=df[obj],y=df[num],data=df,estimator=np.mean)\n",
    "        plt.title(f\"the avg of {num} for {obj}\")\n",
    "        plt.xlabel(f\"{obj}\")\n",
    "        plt.ylabel(f\"{num}\")\n",
    "        plt.show()\n",
    "        "
   ]
  },
  {
   "cell_type": "code",
   "execution_count": 19,
   "id": "0d0053bc",
   "metadata": {},
   "outputs": [
    {
     "data": {
      "application/vnd.microsoft.datawrangler.viewer.v0+json": {
       "columns": [
        {
         "name": "Personality",
         "rawType": "object",
         "type": "string"
        },
        {
         "name": "count",
         "rawType": "int64",
         "type": "integer"
        }
       ],
       "ref": "f28d79f5-2116-4ee9-a03b-f9eaaceacad9",
       "rows": [
        [
         "Extrovert",
         "1491"
        ],
        [
         "Introvert",
         "1409"
        ]
       ],
       "shape": {
        "columns": 1,
        "rows": 2
       }
      },
      "text/plain": [
       "Personality\n",
       "Extrovert    1491\n",
       "Introvert    1409\n",
       "Name: count, dtype: int64"
      ]
     },
     "execution_count": 19,
     "metadata": {},
     "output_type": "execute_result"
    }
   ],
   "source": [
    "df[\"Personality\"].value_counts()"
   ]
  },
  {
   "cell_type": "markdown",
   "id": "64b37ef6",
   "metadata": {},
   "source": [
    "# check distribution"
   ]
  },
  {
   "cell_type": "code",
   "execution_count": 20,
   "id": "2d57f951",
   "metadata": {},
   "outputs": [
    {
     "data": {
      "image/png": "[encoded data removed]",
      "text/plain": [
       "<Figure size 640x480 with 1 Axes>"
      ]
     },
     "metadata": {},
     "output_type": "display_data"
    },
    {
     "data": {
      "image/png": "[encoded data removed]",
      "text/plain": [
       "<Figure size 640x480 with 1 Axes>"
      ]
     },
     "metadata": {},
     "output_type": "display_data"
    },
    {
     "data": {
      "image/png": "[encoded data removed]",
      "text/plain": [
       "<Figure size 640x480 with 1 Axes>"
      ]
     },
     "metadata": {},
     "output_type": "display_data"
    },
    {
     "data": {
      "image/png": "[encoded data removed]",
      "text/plain": [
       "<Figure size 640x480 with 1 Axes>"
      ]
     },
     "metadata": {},
     "output_type": "display_data"
    },
    {
     "data": {
      "image/png": "[encoded data removed]",
      "text/plain": [
       "<Figure size 640x480 with 1 Axes>"
      ]
     },
     "metadata": {},
     "output_type": "display_data"
    }
   ],
   "source": [
    "\n",
    "for col in num_col:\n",
    "    sns.histplot(x=df[col])\n",
    "    plt.title(f\"Distribution of {col}\")\n",
    "    plt.xlabel(f\"{col}\")\n",
    "    plt.ylabel(\"Count\")\n",
    "    plt.show()"
   ]
  },
  {
   "cell_type": "markdown",
   "id": "5b207024",
   "metadata": {},
   "source": [
    "# check outliers"
   ]
  },
  {
   "cell_type": "code",
   "execution_count": 21,
   "id": "9b359f93",
   "metadata": {},
   "outputs": [
    {
     "data": {
      "image/png": "[encoded data removed]",
      "text/plain": [
       "<Figure size 640x480 with 1 Axes>"
      ]
     },
     "metadata": {},
     "output_type": "display_data"
    },
    {
     "data": {
      "image/png": "[encoded data removed]",
      "text/plain": [
       "<Figure size 640x480 with 1 Axes>"
      ]
     },
     "metadata": {},
     "output_type": "display_data"
    },
    {
     "data": {
      "image/png": "[encoded data removed]",
      "text/plain": [
       "<Figure size 640x480 with 1 Axes>"
      ]
     },
     "metadata": {},
     "output_type": "display_data"
    },
    {
     "data": {
      "image/png": "[encoded data removed]",
      "text/plain": [
       "<Figure size 640x480 with 1 Axes>"
      ]
     },
     "metadata": {},
     "output_type": "display_data"
    },
    {
     "data": {
      "image/png": "[encoded data removed]",
      "text/plain": [
       "<Figure size 640x480 with 1 Axes>"
      ]
     },
     "metadata": {},
     "output_type": "display_data"
    }
   ],
   "source": [
    "# i dont have any outliers\n",
    "for col in num_col:\n",
    "    sns.boxplot(x=df[col])\n",
    "    plt.title(f\"{col} boxplot\")\n",
    "    plt.show()"
   ]
  },
  {
   "cell_type": "code",
   "execution_count": 22,
   "id": "c9b60ecd",
   "metadata": {},
   "outputs": [],
   "source": [
    "df=df.dropna(axis=0)"
   ]
  },
  {
   "cell_type": "markdown",
   "id": "5c83aaba",
   "metadata": {},
   "source": [
    "# spliting"
   ]
  },
  {
   "cell_type": "code",
   "execution_count": 23,
   "id": "a9947332",
   "metadata": {},
   "outputs": [],
   "source": [
    "from sklearn.model_selection import train_test_split"
   ]
  },
  {
   "cell_type": "code",
   "execution_count": 24,
   "id": "02787620",
   "metadata": {},
   "outputs": [],
   "source": [
    "x=df.drop(\"Personality\",axis=1)\n",
    "y=df[\"Personality\"]"
   ]
  },
  {
   "cell_type": "code",
   "execution_count": 25,
   "id": "e821cf3a",
   "metadata": {},
   "outputs": [],
   "source": [
    "x_train,x_temp,y_train,y_temp=train_test_split(x,y,test_size=0.10,random_state=42)\n",
    "x_test,x_val,y_test,y_val=train_test_split(x_temp,y_temp,test_size=0.50,random_state=42)"
   ]
  },
  {
   "cell_type": "code",
   "execution_count": 26,
   "id": "802ac1b2",
   "metadata": {},
   "outputs": [],
   "source": [
    "from sklearn.preprocessing import StandardScaler"
   ]
  },
  {
   "cell_type": "code",
   "execution_count": 27,
   "id": "114106ae",
   "metadata": {},
   "outputs": [],
   "source": [
    "scaler=StandardScaler()"
   ]
  },
  {
   "cell_type": "code",
   "execution_count": 28,
   "id": "01333305",
   "metadata": {},
   "outputs": [
    {
     "name": "stdout",
     "output_type": "stream",
     "text": [
      "<class 'pandas.core.frame.DataFrame'>\n",
      "Index: 2229 entries, 1176 to 951\n",
      "Data columns (total 7 columns):\n",
      " #   Column                     Non-Null Count  Dtype  \n",
      "---  ------                     --------------  -----  \n",
      " 0   Time_spent_Alone           2229 non-null   float64\n",
      " 1   Stage_fear                 2229 non-null   object \n",
      " 2   Social_event_attendance    2229 non-null   float64\n",
      " 3   Going_outside              2229 non-null   float64\n",
      " 4   Drained_after_socializing  2229 non-null   object \n",
      " 5   Friends_circle_size        2229 non-null   float64\n",
      " 6   Post_frequency             2229 non-null   float64\n",
      "dtypes: float64(5), object(2)\n",
      "memory usage: 139.3+ KB\n"
     ]
    }
   ],
   "source": [
    "x_train[num_col] = scaler.fit_transform(x_train[num_col])\n",
    "x_train.info()\n"
   ]
  },
  {
   "cell_type": "code",
   "execution_count": 29,
   "id": "0e534ac4",
   "metadata": {},
   "outputs": [
    {
     "data": {
      "application/vnd.microsoft.datawrangler.viewer.v0+json": {
       "columns": [
        {
         "name": "index",
         "rawType": "int64",
         "type": "integer"
        },
        {
         "name": "Time_spent_Alone",
         "rawType": "float64",
         "type": "float"
        },
        {
         "name": "Stage_fear",
         "rawType": "object",
         "type": "string"
        },
        {
         "name": "Social_event_attendance",
         "rawType": "float64",
         "type": "float"
        },
        {
         "name": "Going_outside",
         "rawType": "float64",
         "type": "float"
        },
        {
         "name": "Drained_after_socializing",
         "rawType": "object",
         "type": "string"
        },
        {
         "name": "Friends_circle_size",
         "rawType": "float64",
         "type": "float"
        },
        {
         "name": "Post_frequency",
         "rawType": "float64",
         "type": "float"
        }
       ],
       "ref": "7237e162-a519-49be-9abc-26a4d407b7f9",
       "rows": [
        [
         "1191",
         "1.0050975036510805",
         "Yes",
         "-0.3305906434251528",
         "-0.8997982712435287",
         "Yes",
         "-0.7636488375576117",
         "-1.2201537757329275"
        ],
        [
         "489",
         "1.866223321321135",
         "Yes",
         "-0.3305906434251528",
         "-0.8997982712435287",
         "Yes",
         "-0.3007243722554859",
         "-0.5351713387328783"
        ],
        [
         "2684",
         "0.14397168598102605",
         "Yes",
         "-0.3305906434251528",
         "-0.8997982712435287",
         "Yes",
         "-0.7636488375576117",
         "-0.8776625572329028"
        ],
        [
         "2459",
         "-0.43011219246567695",
         "No",
         "0.015040943908180013",
         "0.8680733432137877",
         "No",
         "-0.3007243722554859",
         "0.14981109826717096"
        ],
        [
         "552",
         "1.0050975036510805",
         "Yes",
         "-0.6762222307584856",
         "-1.341766174857858",
         "Yes",
         "-0.7636488375576117",
         "-0.5351713387328783"
        ],
        [
         "185",
         "1.5791813820977836",
         "Yes",
         "-1.0218538180918186",
         "-1.341766174857858",
         "Yes",
         "-1.4580355355108003",
         "-0.19268012023285364"
        ],
        [
         "2089",
         "0.718055564427729",
         "Yes",
         "-0.6762222307584856",
         "-1.341766174857858",
         "Yes",
         "-0.7636488375576117",
         "-0.8776625572329028"
        ],
        [
         "1753",
         "1.5791813820977836",
         "Yes",
         "-0.3305906434251528",
         "-0.8997982712435287",
         "Yes",
         "-0.7636488375576117",
         "-0.5351713387328783"
        ],
        [
         "153",
         "1.292139442874432",
         "Yes",
         "-0.6762222307584856",
         "-0.015862464014870563",
         "Yes",
         "-1.4580355355108003",
         "-0.8776625572329028"
        ],
        [
         "714",
         "-0.7171541316890284",
         "No",
         "0.7063041185748458",
         "0.8680733432137877",
         "No",
         "0.16220009304663996",
         "1.8622671907672939"
        ],
        [
         "1727",
         "-0.7171541316890284",
         "No",
         "0.7063041185748458",
         "0.42610543959945857",
         "No",
         "0.3936623256977029",
         "1.5197759722672692"
        ],
        [
         "60",
         "-1.0041960709123798",
         "No",
         "1.7431988805748442",
         "0.8680733432137877",
         "No",
         "0.6251245583487658",
         "2.2047584092673183"
        ],
        [
         "1470",
         "-0.7171541316890284",
         "No",
         "0.7063041185748458",
         "-0.015862464014870563",
         "No",
         "0.16220009304663996",
         "0.14981109826717096"
        ],
        [
         "1525",
         "1.0050975036510805",
         "Yes",
         "-1.3674854054251513",
         "-0.45783036762919965",
         "Yes",
         "-0.7636488375576117",
         "-0.5351713387328783"
        ],
        [
         "1986",
         "-0.14307025324232542",
         "Yes",
         "-0.6762222307584856",
         "-0.45783036762919965",
         "Yes",
         "-0.9951110702086746",
         "-1.2201537757329275"
        ],
        [
         "358",
         "-1.2912380101357315",
         "No",
         "0.015040943908180013",
         "1.752009150442446",
         "No",
         "-0.5321866049065488",
         "0.49230231676719555"
        ],
        [
         "1773",
         "-1.2912380101357315",
         "No",
         "0.015040943908180013",
         "0.42610543959945857",
         "No",
         "1.0880490236508917",
         "0.14981109826717096"
        ],
        [
         "1473",
         "-0.7171541316890284",
         "No",
         "0.015040943908180013",
         "0.8680733432137877",
         "No",
         "0.6251245583487658",
         "-0.19268012023285364"
        ],
        [
         "2899",
         "-0.43011219246567695",
         "No",
         "0.7063041185748458",
         "1.3100412468281168",
         "No",
         "-0.06926213960442294",
         "1.8622671907672939"
        ],
        [
         "965",
         "-0.43011219246567695",
         "No",
         "1.7431988805748442",
         "0.8680733432137877",
         "No",
         "1.3195112563019544",
         "1.1772847537672448"
        ],
        [
         "882",
         "-0.14307025324232542",
         "Yes",
         "-1.3674854054251513",
         "-0.45783036762919965",
         "Yes",
         "-1.4580355355108003",
         "-0.8776625572329028"
        ],
        [
         "2778",
         "0.14397168598102605",
         "Yes",
         "-1.0218538180918186",
         "-0.8997982712435287",
         "Yes",
         "-0.9951110702086746",
         "-0.5351713387328783"
        ],
        [
         "840",
         "-0.7171541316890284",
         "No",
         "0.3606725312415129",
         "1.752009150442446",
         "No",
         "1.0880490236508917",
         "1.8622671907672939"
        ],
        [
         "1103",
         "1.866223321321135",
         "Yes",
         "-0.3305906434251528",
         "-0.8997982712435287",
         "Yes",
         "-1.4580355355108003",
         "-1.2201537757329275"
        ],
        [
         "1341",
         "1.0050975036510805",
         "Yes",
         "-1.3674854054251513",
         "-0.8997982712435287",
         "Yes",
         "-0.3007243722554859",
         "-1.2201537757329275"
        ],
        [
         "770",
         "-0.14307025324232542",
         "Yes",
         "-1.0218538180918186",
         "-1.341766174857858",
         "Yes",
         "-0.3007243722554859",
         "-1.2201537757329275"
        ],
        [
         "663",
         "0.4310136252043775",
         "Yes",
         "-0.3305906434251528",
         "-0.45783036762919965",
         "Yes",
         "-0.5321866049065488",
         "-0.5351713387328783"
        ],
        [
         "1559",
         "-1.2912380101357315",
         "No",
         "0.3606725312415129",
         "1.3100412468281168",
         "No",
         "0.6251245583487658",
         "0.8347935352672201"
        ],
        [
         "886",
         "-0.14307025324232542",
         "Yes",
         "-0.6762222307584856",
         "-1.341766174857858",
         "Yes",
         "-1.2265733028597374",
         "-0.8776625572329028"
        ],
        [
         "188",
         "0.718055564427729",
         "Yes",
         "-0.6762222307584856",
         "-0.8997982712435287",
         "Yes",
         "-1.2265733028597374",
         "-0.5351713387328783"
        ],
        [
         "1870",
         "0.718055564427729",
         "Yes",
         "-1.0218538180918186",
         "-0.45783036762919965",
         "Yes",
         "-0.5321866049065488",
         "-0.5351713387328783"
        ],
        [
         "1402",
         "-0.43011219246567695",
         "No",
         "1.3975672932415113",
         "0.8680733432137877",
         "No",
         "0.3936623256977029",
         "1.8622671907672939"
        ],
        [
         "1630",
         "-1.0041960709123798",
         "No",
         "1.7431988805748442",
         "1.3100412468281168",
         "No",
         "0.6251245583487658",
         "1.5197759722672692"
        ],
        [
         "1957",
         "1.292139442874432",
         "Yes",
         "-1.3674854054251513",
         "-1.341766174857858",
         "Yes",
         "-0.3007243722554859",
         "-1.2201537757329275"
        ],
        [
         "1328",
         "-1.0041960709123798",
         "No",
         "1.3975672932415113",
         "0.42610543959945857",
         "No",
         "0.6251245583487658",
         "1.1772847537672448"
        ],
        [
         "2195",
         "-0.43011219246567695",
         "No",
         "0.3606725312415129",
         "1.3100412468281168",
         "No",
         "1.5509734889530173",
         "1.1772847537672448"
        ],
        [
         "146",
         "1.292139442874432",
         "Yes",
         "-1.0218538180918186",
         "-1.341766174857858",
         "Yes",
         "-1.4580355355108003",
         "-1.2201537757329275"
        ],
        [
         "1534",
         "-1.2912380101357315",
         "No",
         "1.0519357059081786",
         "0.8680733432137877",
         "No",
         "0.16220009304663996",
         "1.8622671907672939"
        ],
        [
         "2875",
         "-1.2912380101357315",
         "No",
         "1.3975672932415113",
         "0.8680733432137877",
         "No",
         "1.7824357216040803",
         "0.49230231676719555"
        ],
        [
         "1389",
         "0.14397168598102605",
         "Yes",
         "-1.3674854054251513",
         "-0.45783036762919965",
         "Yes",
         "-1.2265733028597374",
         "-0.8776625572329028"
        ],
        [
         "823",
         "-0.7171541316890284",
         "No",
         "0.015040943908180013",
         "0.8680733432137877",
         "No",
         "1.5509734889530173",
         "0.14981109826717096"
        ],
        [
         "1530",
         "0.14397168598102605",
         "Yes",
         "-1.3674854054251513",
         "-0.8997982712435287",
         "Yes",
         "-0.7636488375576117",
         "-0.5351713387328783"
        ],
        [
         "2762",
         "-0.7171541316890284",
         "No",
         "1.7431988805748442",
         "-0.015862464014870563",
         "No",
         "1.3195112563019544",
         "0.49230231676719555"
        ],
        [
         "1102",
         "-0.7171541316890284",
         "No",
         "0.3606725312415129",
         "0.8680733432137877",
         "No",
         "1.7824357216040803",
         "1.8622671907672939"
        ],
        [
         "771",
         "-0.7171541316890284",
         "No",
         "0.3606725312415129",
         "1.3100412468281168",
         "No",
         "1.5509734889530173",
         "0.14981109826717096"
        ],
        [
         "1778",
         "1.5791813820977836",
         "Yes",
         "-0.6762222307584856",
         "-0.8997982712435287",
         "Yes",
         "-0.7636488375576117",
         "-0.8776625572329028"
        ],
        [
         "105",
         "-1.2912380101357315",
         "No",
         "0.7063041185748458",
         "1.752009150442446",
         "No",
         "1.3195112563019544",
         "1.8622671907672939"
        ],
        [
         "262",
         "0.718055564427729",
         "Yes",
         "-0.6762222307584856",
         "-0.45783036762919965",
         "Yes",
         "-0.9951110702086746",
         "-0.5351713387328783"
        ],
        [
         "2521",
         "-0.43011219246567695",
         "No",
         "0.015040943908180013",
         "-0.015862464014870563",
         "No",
         "1.3195112563019544",
         "1.1772847537672448"
        ],
        [
         "869",
         "1.5791813820977836",
         "Yes",
         "-0.6762222307584856",
         "-0.8997982712435287",
         "Yes",
         "-0.9951110702086746",
         "-0.8776625572329028"
        ]
       ],
       "shape": {
        "columns": 7,
        "rows": 124
       }
      },
      "text/html": [
       "<div>\n",
       "<style scoped>\n",
       "    .dataframe tbody tr th:only-of-type {\n",
       "        vertical-align: middle;\n",
       "    }\n",
       "\n",
       "    .dataframe tbody tr th {\n",
       "        vertical-align: top;\n",
       "    }\n",
       "\n",
       "    .dataframe thead th {\n",
       "        text-align: right;\n",
       "    }\n",
       "</style>\n",
       "<table border=\"1\" class=\"dataframe\">\n",
       "  <thead>\n",
       "    <tr style=\"text-align: right;\">\n",
       "      <th></th>\n",
       "      <th>Time_spent_Alone</th>\n",
       "      <th>Stage_fear</th>\n",
       "      <th>Social_event_attendance</th>\n",
       "      <th>Going_outside</th>\n",
       "      <th>Drained_after_socializing</th>\n",
       "      <th>Friends_circle_size</th>\n",
       "      <th>Post_frequency</th>\n",
       "    </tr>\n",
       "  </thead>\n",
       "  <tbody>\n",
       "    <tr>\n",
       "      <th>1191</th>\n",
       "      <td>1.005098</td>\n",
       "      <td>Yes</td>\n",
       "      <td>-0.330591</td>\n",
       "      <td>-0.899798</td>\n",
       "      <td>Yes</td>\n",
       "      <td>-0.763649</td>\n",
       "      <td>-1.220154</td>\n",
       "    </tr>\n",
       "    <tr>\n",
       "      <th>489</th>\n",
       "      <td>1.866223</td>\n",
       "      <td>Yes</td>\n",
       "      <td>-0.330591</td>\n",
       "      <td>-0.899798</td>\n",
       "      <td>Yes</td>\n",
       "      <td>-0.300724</td>\n",
       "      <td>-0.535171</td>\n",
       "    </tr>\n",
       "    <tr>\n",
       "      <th>2684</th>\n",
       "      <td>0.143972</td>\n",
       "      <td>Yes</td>\n",
       "      <td>-0.330591</td>\n",
       "      <td>-0.899798</td>\n",
       "      <td>Yes</td>\n",
       "      <td>-0.763649</td>\n",
       "      <td>-0.877663</td>\n",
       "    </tr>\n",
       "    <tr>\n",
       "      <th>2459</th>\n",
       "      <td>-0.430112</td>\n",
       "      <td>No</td>\n",
       "      <td>0.015041</td>\n",
       "      <td>0.868073</td>\n",
       "      <td>No</td>\n",
       "      <td>-0.300724</td>\n",
       "      <td>0.149811</td>\n",
       "    </tr>\n",
       "    <tr>\n",
       "      <th>552</th>\n",
       "      <td>1.005098</td>\n",
       "      <td>Yes</td>\n",
       "      <td>-0.676222</td>\n",
       "      <td>-1.341766</td>\n",
       "      <td>Yes</td>\n",
       "      <td>-0.763649</td>\n",
       "      <td>-0.535171</td>\n",
       "    </tr>\n",
       "    <tr>\n",
       "      <th>...</th>\n",
       "      <td>...</td>\n",
       "      <td>...</td>\n",
       "      <td>...</td>\n",
       "      <td>...</td>\n",
       "      <td>...</td>\n",
       "      <td>...</td>\n",
       "      <td>...</td>\n",
       "    </tr>\n",
       "    <tr>\n",
       "      <th>666</th>\n",
       "      <td>-0.430112</td>\n",
       "      <td>No</td>\n",
       "      <td>0.015041</td>\n",
       "      <td>0.868073</td>\n",
       "      <td>No</td>\n",
       "      <td>1.088049</td>\n",
       "      <td>0.149811</td>\n",
       "    </tr>\n",
       "    <tr>\n",
       "      <th>1113</th>\n",
       "      <td>-0.143070</td>\n",
       "      <td>Yes</td>\n",
       "      <td>-1.021854</td>\n",
       "      <td>-0.457830</td>\n",
       "      <td>Yes</td>\n",
       "      <td>-0.995111</td>\n",
       "      <td>-0.535171</td>\n",
       "    </tr>\n",
       "    <tr>\n",
       "      <th>685</th>\n",
       "      <td>-1.291238</td>\n",
       "      <td>No</td>\n",
       "      <td>1.743199</td>\n",
       "      <td>0.426105</td>\n",
       "      <td>No</td>\n",
       "      <td>0.856587</td>\n",
       "      <td>0.492302</td>\n",
       "    </tr>\n",
       "    <tr>\n",
       "      <th>523</th>\n",
       "      <td>-0.143070</td>\n",
       "      <td>Yes</td>\n",
       "      <td>-1.367485</td>\n",
       "      <td>-1.341766</td>\n",
       "      <td>Yes</td>\n",
       "      <td>-1.458036</td>\n",
       "      <td>-0.877663</td>\n",
       "    </tr>\n",
       "    <tr>\n",
       "      <th>2053</th>\n",
       "      <td>-0.430112</td>\n",
       "      <td>No</td>\n",
       "      <td>1.051936</td>\n",
       "      <td>-0.015862</td>\n",
       "      <td>No</td>\n",
       "      <td>1.319511</td>\n",
       "      <td>0.834794</td>\n",
       "    </tr>\n",
       "  </tbody>\n",
       "</table>\n",
       "<p>124 rows × 7 columns</p>\n",
       "</div>"
      ],
      "text/plain": [
       "      Time_spent_Alone Stage_fear  Social_event_attendance  Going_outside  \\\n",
       "1191          1.005098        Yes                -0.330591      -0.899798   \n",
       "489           1.866223        Yes                -0.330591      -0.899798   \n",
       "2684          0.143972        Yes                -0.330591      -0.899798   \n",
       "2459         -0.430112         No                 0.015041       0.868073   \n",
       "552           1.005098        Yes                -0.676222      -1.341766   \n",
       "...                ...        ...                      ...            ...   \n",
       "666          -0.430112         No                 0.015041       0.868073   \n",
       "1113         -0.143070        Yes                -1.021854      -0.457830   \n",
       "685          -1.291238         No                 1.743199       0.426105   \n",
       "523          -0.143070        Yes                -1.367485      -1.341766   \n",
       "2053         -0.430112         No                 1.051936      -0.015862   \n",
       "\n",
       "     Drained_after_socializing  Friends_circle_size  Post_frequency  \n",
       "1191                       Yes            -0.763649       -1.220154  \n",
       "489                        Yes            -0.300724       -0.535171  \n",
       "2684                       Yes            -0.763649       -0.877663  \n",
       "2459                        No            -0.300724        0.149811  \n",
       "552                        Yes            -0.763649       -0.535171  \n",
       "...                        ...                  ...             ...  \n",
       "666                         No             1.088049        0.149811  \n",
       "1113                       Yes            -0.995111       -0.535171  \n",
       "685                         No             0.856587        0.492302  \n",
       "523                        Yes            -1.458036       -0.877663  \n",
       "2053                        No             1.319511        0.834794  \n",
       "\n",
       "[124 rows x 7 columns]"
      ]
     },
     "execution_count": 29,
     "metadata": {},
     "output_type": "execute_result"
    }
   ],
   "source": [
    "x_test[num_col]=scaler.transform(x_test[num_col])\n",
    "x_test"
   ]
  },
  {
   "cell_type": "code",
   "execution_count": 30,
   "id": "521bd29d",
   "metadata": {},
   "outputs": [
    {
     "data": {
      "application/vnd.microsoft.datawrangler.viewer.v0+json": {
       "columns": [
        {
         "name": "index",
         "rawType": "int64",
         "type": "integer"
        },
        {
         "name": "Time_spent_Alone",
         "rawType": "float64",
         "type": "float"
        },
        {
         "name": "Stage_fear",
         "rawType": "object",
         "type": "string"
        },
        {
         "name": "Social_event_attendance",
         "rawType": "float64",
         "type": "float"
        },
        {
         "name": "Going_outside",
         "rawType": "float64",
         "type": "float"
        },
        {
         "name": "Drained_after_socializing",
         "rawType": "object",
         "type": "string"
        },
        {
         "name": "Friends_circle_size",
         "rawType": "float64",
         "type": "float"
        },
        {
         "name": "Post_frequency",
         "rawType": "float64",
         "type": "float"
        }
       ],
       "ref": "2e1f72f7-de01-4749-979e-5ca524b927b9",
       "rows": [
        [
         "46",
         "-0.14307025324232542",
         "No",
         "1.0519357059081786",
         "0.42610543959945857",
         "No",
         "1.5509734889530173",
         "2.2047584092673183"
        ],
        [
         "2411",
         "-0.43011219246567695",
         "No",
         "1.7431988805748442",
         "1.3100412468281168",
         "No",
         "1.5509734889530173",
         "1.5197759722672692"
        ],
        [
         "2272",
         "-1.2912380101357315",
         "No",
         "1.7431988805748442",
         "0.8680733432137877",
         "No",
         "-0.06926213960442294",
         "1.1772847537672448"
        ],
        [
         "580",
         "-0.43011219246567695",
         "No",
         "1.3975672932415113",
         "0.42610543959945857",
         "No",
         "0.16220009304663996",
         "0.49230231676719555"
        ],
        [
         "1391",
         "1.5791813820977836",
         "Yes",
         "-0.6762222307584856",
         "-1.341766174857858",
         "Yes",
         "-0.3007243722554859",
         "-0.5351713387328783"
        ],
        [
         "808",
         "-1.0041960709123798",
         "No",
         "0.015040943908180013",
         "1.752009150442446",
         "No",
         "1.0880490236508917",
         "1.5197759722672692"
        ],
        [
         "313",
         "-1.2912380101357315",
         "No",
         "1.0519357059081786",
         "0.42610543959945857",
         "No",
         "0.16220009304663996",
         "0.14981109826717096"
        ],
        [
         "1393",
         "1.5791813820977836",
         "Yes",
         "-1.0218538180918186",
         "-0.8997982712435287",
         "Yes",
         "-0.5321866049065488",
         "-0.8776625572329028"
        ],
        [
         "1200",
         "1.866223321321135",
         "Yes",
         "-1.0218538180918186",
         "-0.45783036762919965",
         "Yes",
         "-0.5321866049065488",
         "-0.5351713387328783"
        ],
        [
         "2054",
         "1.292139442874432",
         "Yes",
         "-1.0218538180918186",
         "-0.8997982712435287",
         "Yes",
         "-1.2265733028597374",
         "-1.2201537757329275"
        ],
        [
         "241",
         "-0.14307025324232542",
         "Yes",
         "-1.3674854054251513",
         "-1.341766174857858",
         "Yes",
         "-1.2265733028597374",
         "-0.5351713387328783"
        ],
        [
         "1958",
         "-1.0041960709123798",
         "No",
         "1.0519357059081786",
         "-0.015862464014870563",
         "No",
         "-0.06926213960442294",
         "1.8622671907672939"
        ],
        [
         "2793",
         "-0.7171541316890284",
         "No",
         "1.0519357059081786",
         "1.3100412468281168",
         "No",
         "-0.06926213960442294",
         "1.1772847537672448"
        ],
        [
         "1962",
         "-0.14307025324232542",
         "Yes",
         "-1.3674854054251513",
         "-1.341766174857858",
         "Yes",
         "-0.9951110702086746",
         "-1.2201537757329275"
        ],
        [
         "2523",
         "-1.0041960709123798",
         "No",
         "0.015040943908180013",
         "1.3100412468281168",
         "No",
         "-0.3007243722554859",
         "-0.19268012023285364"
        ],
        [
         "1023",
         "1.866223321321135",
         "Yes",
         "-1.0218538180918186",
         "-0.45783036762919965",
         "Yes",
         "-1.2265733028597374",
         "-1.2201537757329275"
        ],
        [
         "2227",
         "1.292139442874432",
         "Yes",
         "-0.6762222307584856",
         "-0.8997982712435287",
         "Yes",
         "-0.9951110702086746",
         "-1.2201537757329275"
        ],
        [
         "1428",
         "-0.7171541316890284",
         "No",
         "0.3606725312415129",
         "0.42610543959945857",
         "No",
         "1.0880490236508917",
         "-0.19268012023285364"
        ],
        [
         "534",
         "1.0050975036510805",
         "Yes",
         "-0.3305906434251528",
         "-1.341766174857858",
         "Yes",
         "-1.4580355355108003",
         "-0.5351713387328783"
        ],
        [
         "1344",
         "1.866223321321135",
         "Yes",
         "-0.6762222307584856",
         "-0.8997982712435287",
         "Yes",
         "-0.7636488375576117",
         "-0.8776625572329028"
        ],
        [
         "2652",
         "-0.14307025324232542",
         "Yes",
         "-1.3674854054251513",
         "-1.341766174857858",
         "Yes",
         "-0.9951110702086746",
         "-1.2201537757329275"
        ],
        [
         "975",
         "-1.2912380101357315",
         "No",
         "1.0519357059081786",
         "0.42610543959945857",
         "No",
         "1.0880490236508917",
         "0.14981109826717096"
        ],
        [
         "1713",
         "-0.43011219246567695",
         "No",
         "1.3975672932415113",
         "0.8680733432137877",
         "No",
         "1.7824357216040803",
         "-0.19268012023285364"
        ],
        [
         "231",
         "0.4310136252043775",
         "Yes",
         "-0.6762222307584856",
         "-0.8997982712435287",
         "Yes",
         "-0.9951110702086746",
         "-0.8776625572329028"
        ],
        [
         "553",
         "0.4310136252043775",
         "Yes",
         "-0.3305906434251528",
         "-1.341766174857858",
         "Yes",
         "-1.2265733028597374",
         "-0.5351713387328783"
        ],
        [
         "669",
         "1.866223321321135",
         "Yes",
         "-1.3674854054251513",
         "-0.45783036762919965",
         "Yes",
         "-0.7636488375576117",
         "-0.8776625572329028"
        ],
        [
         "2239",
         "-1.0041960709123798",
         "No",
         "0.3606725312415129",
         "1.3100412468281168",
         "No",
         "1.3195112563019544",
         "-0.19268012023285364"
        ],
        [
         "1283",
         "-0.43011219246567695",
         "No",
         "0.7063041185748458",
         "1.752009150442446",
         "No",
         "-0.06926213960442294",
         "1.8622671907672939"
        ],
        [
         "2146",
         "1.292139442874432",
         "Yes",
         "-0.6762222307584856",
         "-0.8997982712435287",
         "Yes",
         "-0.3007243722554859",
         "-1.2201537757329275"
        ],
        [
         "999",
         "-0.43011219246567695",
         "No",
         "1.7431988805748442",
         "1.752009150442446",
         "No",
         "0.8565867909998287",
         "0.8347935352672201"
        ],
        [
         "1454",
         "-0.7171541316890284",
         "No",
         "1.7431988805748442",
         "1.3100412468281168",
         "No",
         "0.6251245583487658",
         "0.8347935352672201"
        ],
        [
         "1000",
         "1.866223321321135",
         "Yes",
         "-0.6762222307584856",
         "-0.8997982712435287",
         "Yes",
         "-1.4580355355108003",
         "-1.2201537757329275"
        ],
        [
         "1507",
         "-1.2912380101357315",
         "No",
         "0.015040943908180013",
         "-0.015862464014870563",
         "No",
         "1.7824357216040803",
         "1.8622671907672939"
        ],
        [
         "1490",
         "1.0050975036510805",
         "Yes",
         "-1.0218538180918186",
         "-1.341766174857858",
         "Yes",
         "-1.2265733028597374",
         "-1.2201537757329275"
        ],
        [
         "2014",
         "-1.2912380101357315",
         "No",
         "1.3975672932415113",
         "0.8680733432137877",
         "No",
         "0.8565867909998287",
         "0.49230231676719555"
        ],
        [
         "983",
         "-0.14307025324232542",
         "Yes",
         "-0.6762222307584856",
         "-1.341766174857858",
         "Yes",
         "-0.5321866049065488",
         "-1.2201537757329275"
        ],
        [
         "1835",
         "-0.43011219246567695",
         "No",
         "0.3606725312415129",
         "0.42610543959945857",
         "No",
         "0.8565867909998287",
         "0.8347935352672201"
        ],
        [
         "2671",
         "-1.0041960709123798",
         "No",
         "1.7431988805748442",
         "1.3100412468281168",
         "No",
         "0.16220009304663996",
         "-0.19268012023285364"
        ],
        [
         "1882",
         "-0.14307025324232542",
         "Yes",
         "-0.6762222307584856",
         "-0.8997982712435287",
         "Yes",
         "-0.7636488375576117",
         "-0.8776625572329028"
        ],
        [
         "603",
         "1.5791813820977836",
         "Yes",
         "-0.6762222307584856",
         "-0.45783036762919965",
         "Yes",
         "-0.3007243722554859",
         "-0.5351713387328783"
        ],
        [
         "1204",
         "1.292139442874432",
         "Yes",
         "-0.6762222307584856",
         "-0.45783036762919965",
         "Yes",
         "-0.7636488375576117",
         "-1.2201537757329275"
        ],
        [
         "720",
         "-0.43011219246567695",
         "No",
         "0.015040943908180013",
         "0.42610543959945857",
         "No",
         "1.7824357216040803",
         "1.1772847537672448"
        ],
        [
         "2720",
         "1.866223321321135",
         "Yes",
         "-1.3674854054251513",
         "-0.8997982712435287",
         "Yes",
         "-0.7636488375576117",
         "-0.8776625572329028"
        ],
        [
         "1988",
         "-0.14307025324232542",
         "Yes",
         "-0.6762222307584856",
         "-1.341766174857858",
         "Yes",
         "-0.7636488375576117",
         "-1.2201537757329275"
        ],
        [
         "1042",
         "-0.7171541316890284",
         "No",
         "0.3606725312415129",
         "1.3100412468281168",
         "No",
         "0.3936623256977029",
         "1.1772847537672448"
        ],
        [
         "2103",
         "1.5791813820977836",
         "Yes",
         "-1.0218538180918186",
         "-1.341766174857858",
         "Yes",
         "-0.3007243722554859",
         "-0.5351713387328783"
        ],
        [
         "1877",
         "-0.43011219246567695",
         "No",
         "0.7063041185748458",
         "0.42610543959945857",
         "No",
         "1.5509734889530173",
         "-0.19268012023285364"
        ],
        [
         "1383",
         "0.4310136252043775",
         "Yes",
         "-0.3305906434251528",
         "-0.8997982712435287",
         "Yes",
         "-0.5321866049065488",
         "-1.2201537757329275"
        ],
        [
         "978",
         "0.14397168598102605",
         "Yes",
         "-0.3305906434251528",
         "-1.341766174857858",
         "Yes",
         "-1.4580355355108003",
         "-0.8776625572329028"
        ],
        [
         "2319",
         "0.718055564427729",
         "Yes",
         "-1.3674854054251513",
         "-0.45783036762919965",
         "Yes",
         "-0.9951110702086746",
         "-1.2201537757329275"
        ]
       ],
       "shape": {
        "columns": 7,
        "rows": 124
       }
      },
      "text/html": [
       "<div>\n",
       "<style scoped>\n",
       "    .dataframe tbody tr th:only-of-type {\n",
       "        vertical-align: middle;\n",
       "    }\n",
       "\n",
       "    .dataframe tbody tr th {\n",
       "        vertical-align: top;\n",
       "    }\n",
       "\n",
       "    .dataframe thead th {\n",
       "        text-align: right;\n",
       "    }\n",
       "</style>\n",
       "<table border=\"1\" class=\"dataframe\">\n",
       "  <thead>\n",
       "    <tr style=\"text-align: right;\">\n",
       "      <th></th>\n",
       "      <th>Time_spent_Alone</th>\n",
       "      <th>Stage_fear</th>\n",
       "      <th>Social_event_attendance</th>\n",
       "      <th>Going_outside</th>\n",
       "      <th>Drained_after_socializing</th>\n",
       "      <th>Friends_circle_size</th>\n",
       "      <th>Post_frequency</th>\n",
       "    </tr>\n",
       "  </thead>\n",
       "  <tbody>\n",
       "    <tr>\n",
       "      <th>46</th>\n",
       "      <td>-0.143070</td>\n",
       "      <td>No</td>\n",
       "      <td>1.051936</td>\n",
       "      <td>0.426105</td>\n",
       "      <td>No</td>\n",
       "      <td>1.550973</td>\n",
       "      <td>2.204758</td>\n",
       "    </tr>\n",
       "    <tr>\n",
       "      <th>2411</th>\n",
       "      <td>-0.430112</td>\n",
       "      <td>No</td>\n",
       "      <td>1.743199</td>\n",
       "      <td>1.310041</td>\n",
       "      <td>No</td>\n",
       "      <td>1.550973</td>\n",
       "      <td>1.519776</td>\n",
       "    </tr>\n",
       "    <tr>\n",
       "      <th>2272</th>\n",
       "      <td>-1.291238</td>\n",
       "      <td>No</td>\n",
       "      <td>1.743199</td>\n",
       "      <td>0.868073</td>\n",
       "      <td>No</td>\n",
       "      <td>-0.069262</td>\n",
       "      <td>1.177285</td>\n",
       "    </tr>\n",
       "    <tr>\n",
       "      <th>580</th>\n",
       "      <td>-0.430112</td>\n",
       "      <td>No</td>\n",
       "      <td>1.397567</td>\n",
       "      <td>0.426105</td>\n",
       "      <td>No</td>\n",
       "      <td>0.162200</td>\n",
       "      <td>0.492302</td>\n",
       "    </tr>\n",
       "    <tr>\n",
       "      <th>1391</th>\n",
       "      <td>1.579181</td>\n",
       "      <td>Yes</td>\n",
       "      <td>-0.676222</td>\n",
       "      <td>-1.341766</td>\n",
       "      <td>Yes</td>\n",
       "      <td>-0.300724</td>\n",
       "      <td>-0.535171</td>\n",
       "    </tr>\n",
       "    <tr>\n",
       "      <th>...</th>\n",
       "      <td>...</td>\n",
       "      <td>...</td>\n",
       "      <td>...</td>\n",
       "      <td>...</td>\n",
       "      <td>...</td>\n",
       "      <td>...</td>\n",
       "      <td>...</td>\n",
       "    </tr>\n",
       "    <tr>\n",
       "      <th>1356</th>\n",
       "      <td>0.718056</td>\n",
       "      <td>Yes</td>\n",
       "      <td>-1.367485</td>\n",
       "      <td>-1.341766</td>\n",
       "      <td>Yes</td>\n",
       "      <td>-1.226573</td>\n",
       "      <td>-0.535171</td>\n",
       "    </tr>\n",
       "    <tr>\n",
       "      <th>2696</th>\n",
       "      <td>1.579181</td>\n",
       "      <td>Yes</td>\n",
       "      <td>-1.021854</td>\n",
       "      <td>-0.899798</td>\n",
       "      <td>Yes</td>\n",
       "      <td>-1.226573</td>\n",
       "      <td>-0.535171</td>\n",
       "    </tr>\n",
       "    <tr>\n",
       "      <th>2552</th>\n",
       "      <td>-0.430112</td>\n",
       "      <td>No</td>\n",
       "      <td>0.360673</td>\n",
       "      <td>1.310041</td>\n",
       "      <td>No</td>\n",
       "      <td>0.393662</td>\n",
       "      <td>1.519776</td>\n",
       "    </tr>\n",
       "    <tr>\n",
       "      <th>481</th>\n",
       "      <td>1.866223</td>\n",
       "      <td>Yes</td>\n",
       "      <td>-0.676222</td>\n",
       "      <td>-0.899798</td>\n",
       "      <td>Yes</td>\n",
       "      <td>-1.458036</td>\n",
       "      <td>-0.877663</td>\n",
       "    </tr>\n",
       "    <tr>\n",
       "      <th>270</th>\n",
       "      <td>0.431014</td>\n",
       "      <td>Yes</td>\n",
       "      <td>-1.367485</td>\n",
       "      <td>-0.457830</td>\n",
       "      <td>Yes</td>\n",
       "      <td>-1.226573</td>\n",
       "      <td>-1.220154</td>\n",
       "    </tr>\n",
       "  </tbody>\n",
       "</table>\n",
       "<p>124 rows × 7 columns</p>\n",
       "</div>"
      ],
      "text/plain": [
       "      Time_spent_Alone Stage_fear  Social_event_attendance  Going_outside  \\\n",
       "46           -0.143070         No                 1.051936       0.426105   \n",
       "2411         -0.430112         No                 1.743199       1.310041   \n",
       "2272         -1.291238         No                 1.743199       0.868073   \n",
       "580          -0.430112         No                 1.397567       0.426105   \n",
       "1391          1.579181        Yes                -0.676222      -1.341766   \n",
       "...                ...        ...                      ...            ...   \n",
       "1356          0.718056        Yes                -1.367485      -1.341766   \n",
       "2696          1.579181        Yes                -1.021854      -0.899798   \n",
       "2552         -0.430112         No                 0.360673       1.310041   \n",
       "481           1.866223        Yes                -0.676222      -0.899798   \n",
       "270           0.431014        Yes                -1.367485      -0.457830   \n",
       "\n",
       "     Drained_after_socializing  Friends_circle_size  Post_frequency  \n",
       "46                          No             1.550973        2.204758  \n",
       "2411                        No             1.550973        1.519776  \n",
       "2272                        No            -0.069262        1.177285  \n",
       "580                         No             0.162200        0.492302  \n",
       "1391                       Yes            -0.300724       -0.535171  \n",
       "...                        ...                  ...             ...  \n",
       "1356                       Yes            -1.226573       -0.535171  \n",
       "2696                       Yes            -1.226573       -0.535171  \n",
       "2552                        No             0.393662        1.519776  \n",
       "481                        Yes            -1.458036       -0.877663  \n",
       "270                        Yes            -1.226573       -1.220154  \n",
       "\n",
       "[124 rows x 7 columns]"
      ]
     },
     "execution_count": 30,
     "metadata": {},
     "output_type": "execute_result"
    }
   ],
   "source": [
    "x_val[num_col]=scaler.transform(x_val[num_col])\n",
    "x_val"
   ]
  },
  {
   "cell_type": "code",
   "execution_count": 31,
   "id": "24e2ddc2",
   "metadata": {},
   "outputs": [],
   "source": [
    "from sklearn.preprocessing import LabelEncoder"
   ]
  },
  {
   "cell_type": "code",
   "execution_count": 32,
   "id": "4685abba",
   "metadata": {},
   "outputs": [],
   "source": [
    "cat=x_train.select_dtypes(include=\"object\").columns"
   ]
  },
  {
   "cell_type": "code",
   "execution_count": 33,
   "id": "e489e302",
   "metadata": {},
   "outputs": [],
   "source": [
    "le=LabelEncoder()"
   ]
  },
  {
   "cell_type": "code",
   "execution_count": 34,
   "id": "3df4eb61",
   "metadata": {},
   "outputs": [],
   "source": [
    "x_train[\"Drained_after_socializing\"]=le.fit_transform(x_train[\"Drained_after_socializing\"])\n",
    "x_train[\"Stage_fear\"]=le.fit_transform(x_train[\"Stage_fear\"])"
   ]
  },
  {
   "cell_type": "code",
   "execution_count": 35,
   "id": "1e73f264",
   "metadata": {},
   "outputs": [
    {
     "data": {
      "application/vnd.microsoft.datawrangler.viewer.v0+json": {
       "columns": [
        {
         "name": "index",
         "rawType": "int64",
         "type": "integer"
        },
        {
         "name": "Time_spent_Alone",
         "rawType": "float64",
         "type": "float"
        },
        {
         "name": "Stage_fear",
         "rawType": "int64",
         "type": "integer"
        },
        {
         "name": "Social_event_attendance",
         "rawType": "float64",
         "type": "float"
        },
        {
         "name": "Going_outside",
         "rawType": "float64",
         "type": "float"
        },
        {
         "name": "Drained_after_socializing",
         "rawType": "int64",
         "type": "integer"
        },
        {
         "name": "Friends_circle_size",
         "rawType": "float64",
         "type": "float"
        },
        {
         "name": "Post_frequency",
         "rawType": "float64",
         "type": "float"
        }
       ],
       "ref": "09f5ed25-9f7f-4ef0-adae-8ec44a417fda",
       "rows": [
        [
         "1176",
         "-0.43011219246567695",
         "0",
         "1.0519357059081786",
         "1.3100412468281168",
         "0",
         "1.7824357216040803",
         "1.8622671907672939"
        ],
        [
         "1311",
         "-0.43011219246567695",
         "0",
         "1.0519357059081786",
         "1.3100412468281168",
         "0",
         "-0.06926213960442294",
         "0.49230231676719555"
        ],
        [
         "1435",
         "0.718055564427729",
         "1",
         "-0.6762222307584856",
         "-0.8997982712435287",
         "1",
         "-1.2265733028597374",
         "-1.2201537757329275"
        ],
        [
         "684",
         "-0.14307025324232542",
         "1",
         "-0.6762222307584856",
         "-0.45783036762919965",
         "1",
         "-0.9951110702086746",
         "-0.5351713387328783"
        ],
        [
         "2467",
         "1.5791813820977836",
         "1",
         "-1.3674854054251513",
         "-0.45783036762919965",
         "1",
         "-1.2265733028597374",
         "-1.2201537757329275"
        ]
       ],
       "shape": {
        "columns": 7,
        "rows": 5
       }
      },
      "text/html": [
       "<div>\n",
       "<style scoped>\n",
       "    .dataframe tbody tr th:only-of-type {\n",
       "        vertical-align: middle;\n",
       "    }\n",
       "\n",
       "    .dataframe tbody tr th {\n",
       "        vertical-align: top;\n",
       "    }\n",
       "\n",
       "    .dataframe thead th {\n",
       "        text-align: right;\n",
       "    }\n",
       "</style>\n",
       "<table border=\"1\" class=\"dataframe\">\n",
       "  <thead>\n",
       "    <tr style=\"text-align: right;\">\n",
       "      <th></th>\n",
       "      <th>Time_spent_Alone</th>\n",
       "      <th>Stage_fear</th>\n",
       "      <th>Social_event_attendance</th>\n",
       "      <th>Going_outside</th>\n",
       "      <th>Drained_after_socializing</th>\n",
       "      <th>Friends_circle_size</th>\n",
       "      <th>Post_frequency</th>\n",
       "    </tr>\n",
       "  </thead>\n",
       "  <tbody>\n",
       "    <tr>\n",
       "      <th>1176</th>\n",
       "      <td>-0.430112</td>\n",
       "      <td>0</td>\n",
       "      <td>1.051936</td>\n",
       "      <td>1.310041</td>\n",
       "      <td>0</td>\n",
       "      <td>1.782436</td>\n",
       "      <td>1.862267</td>\n",
       "    </tr>\n",
       "    <tr>\n",
       "      <th>1311</th>\n",
       "      <td>-0.430112</td>\n",
       "      <td>0</td>\n",
       "      <td>1.051936</td>\n",
       "      <td>1.310041</td>\n",
       "      <td>0</td>\n",
       "      <td>-0.069262</td>\n",
       "      <td>0.492302</td>\n",
       "    </tr>\n",
       "    <tr>\n",
       "      <th>1435</th>\n",
       "      <td>0.718056</td>\n",
       "      <td>1</td>\n",
       "      <td>-0.676222</td>\n",
       "      <td>-0.899798</td>\n",
       "      <td>1</td>\n",
       "      <td>-1.226573</td>\n",
       "      <td>-1.220154</td>\n",
       "    </tr>\n",
       "    <tr>\n",
       "      <th>684</th>\n",
       "      <td>-0.143070</td>\n",
       "      <td>1</td>\n",
       "      <td>-0.676222</td>\n",
       "      <td>-0.457830</td>\n",
       "      <td>1</td>\n",
       "      <td>-0.995111</td>\n",
       "      <td>-0.535171</td>\n",
       "    </tr>\n",
       "    <tr>\n",
       "      <th>2467</th>\n",
       "      <td>1.579181</td>\n",
       "      <td>1</td>\n",
       "      <td>-1.367485</td>\n",
       "      <td>-0.457830</td>\n",
       "      <td>1</td>\n",
       "      <td>-1.226573</td>\n",
       "      <td>-1.220154</td>\n",
       "    </tr>\n",
       "  </tbody>\n",
       "</table>\n",
       "</div>"
      ],
      "text/plain": [
       "      Time_spent_Alone  Stage_fear  Social_event_attendance  Going_outside  \\\n",
       "1176         -0.430112           0                 1.051936       1.310041   \n",
       "1311         -0.430112           0                 1.051936       1.310041   \n",
       "1435          0.718056           1                -0.676222      -0.899798   \n",
       "684          -0.143070           1                -0.676222      -0.457830   \n",
       "2467          1.579181           1                -1.367485      -0.457830   \n",
       "\n",
       "      Drained_after_socializing  Friends_circle_size  Post_frequency  \n",
       "1176                          0             1.782436        1.862267  \n",
       "1311                          0            -0.069262        0.492302  \n",
       "1435                          1            -1.226573       -1.220154  \n",
       "684                           1            -0.995111       -0.535171  \n",
       "2467                          1            -1.226573       -1.220154  "
      ]
     },
     "execution_count": 35,
     "metadata": {},
     "output_type": "execute_result"
    }
   ],
   "source": [
    "x_train.head()"
   ]
  },
  {
   "cell_type": "code",
   "execution_count": 36,
   "id": "83aed912",
   "metadata": {},
   "outputs": [
    {
     "data": {
      "application/vnd.microsoft.datawrangler.viewer.v0+json": {
       "columns": [
        {
         "name": "index",
         "rawType": "int64",
         "type": "integer"
        },
        {
         "name": "Time_spent_Alone",
         "rawType": "float64",
         "type": "float"
        },
        {
         "name": "Stage_fear",
         "rawType": "int64",
         "type": "integer"
        },
        {
         "name": "Social_event_attendance",
         "rawType": "float64",
         "type": "float"
        },
        {
         "name": "Going_outside",
         "rawType": "float64",
         "type": "float"
        },
        {
         "name": "Drained_after_socializing",
         "rawType": "int64",
         "type": "integer"
        },
        {
         "name": "Friends_circle_size",
         "rawType": "float64",
         "type": "float"
        },
        {
         "name": "Post_frequency",
         "rawType": "float64",
         "type": "float"
        }
       ],
       "ref": "00c61783-6f5d-4b9e-9601-ad8ec4badc5e",
       "rows": [
        [
         "46",
         "-0.14307025324232542",
         "0",
         "1.0519357059081786",
         "0.42610543959945857",
         "0",
         "1.5509734889530173",
         "2.2047584092673183"
        ],
        [
         "2411",
         "-0.43011219246567695",
         "0",
         "1.7431988805748442",
         "1.3100412468281168",
         "0",
         "1.5509734889530173",
         "1.5197759722672692"
        ],
        [
         "2272",
         "-1.2912380101357315",
         "0",
         "1.7431988805748442",
         "0.8680733432137877",
         "0",
         "-0.06926213960442294",
         "1.1772847537672448"
        ],
        [
         "580",
         "-0.43011219246567695",
         "0",
         "1.3975672932415113",
         "0.42610543959945857",
         "0",
         "0.16220009304663996",
         "0.49230231676719555"
        ],
        [
         "1391",
         "1.5791813820977836",
         "1",
         "-0.6762222307584856",
         "-1.341766174857858",
         "1",
         "-0.3007243722554859",
         "-0.5351713387328783"
        ],
        [
         "808",
         "-1.0041960709123798",
         "0",
         "0.015040943908180013",
         "1.752009150442446",
         "0",
         "1.0880490236508917",
         "1.5197759722672692"
        ],
        [
         "313",
         "-1.2912380101357315",
         "0",
         "1.0519357059081786",
         "0.42610543959945857",
         "0",
         "0.16220009304663996",
         "0.14981109826717096"
        ],
        [
         "1393",
         "1.5791813820977836",
         "1",
         "-1.0218538180918186",
         "-0.8997982712435287",
         "1",
         "-0.5321866049065488",
         "-0.8776625572329028"
        ],
        [
         "1200",
         "1.866223321321135",
         "1",
         "-1.0218538180918186",
         "-0.45783036762919965",
         "1",
         "-0.5321866049065488",
         "-0.5351713387328783"
        ],
        [
         "2054",
         "1.292139442874432",
         "1",
         "-1.0218538180918186",
         "-0.8997982712435287",
         "1",
         "-1.2265733028597374",
         "-1.2201537757329275"
        ],
        [
         "241",
         "-0.14307025324232542",
         "1",
         "-1.3674854054251513",
         "-1.341766174857858",
         "1",
         "-1.2265733028597374",
         "-0.5351713387328783"
        ],
        [
         "1958",
         "-1.0041960709123798",
         "0",
         "1.0519357059081786",
         "-0.015862464014870563",
         "0",
         "-0.06926213960442294",
         "1.8622671907672939"
        ],
        [
         "2793",
         "-0.7171541316890284",
         "0",
         "1.0519357059081786",
         "1.3100412468281168",
         "0",
         "-0.06926213960442294",
         "1.1772847537672448"
        ],
        [
         "1962",
         "-0.14307025324232542",
         "1",
         "-1.3674854054251513",
         "-1.341766174857858",
         "1",
         "-0.9951110702086746",
         "-1.2201537757329275"
        ],
        [
         "2523",
         "-1.0041960709123798",
         "0",
         "0.015040943908180013",
         "1.3100412468281168",
         "0",
         "-0.3007243722554859",
         "-0.19268012023285364"
        ],
        [
         "1023",
         "1.866223321321135",
         "1",
         "-1.0218538180918186",
         "-0.45783036762919965",
         "1",
         "-1.2265733028597374",
         "-1.2201537757329275"
        ],
        [
         "2227",
         "1.292139442874432",
         "1",
         "-0.6762222307584856",
         "-0.8997982712435287",
         "1",
         "-0.9951110702086746",
         "-1.2201537757329275"
        ],
        [
         "1428",
         "-0.7171541316890284",
         "0",
         "0.3606725312415129",
         "0.42610543959945857",
         "0",
         "1.0880490236508917",
         "-0.19268012023285364"
        ],
        [
         "534",
         "1.0050975036510805",
         "1",
         "-0.3305906434251528",
         "-1.341766174857858",
         "1",
         "-1.4580355355108003",
         "-0.5351713387328783"
        ],
        [
         "1344",
         "1.866223321321135",
         "1",
         "-0.6762222307584856",
         "-0.8997982712435287",
         "1",
         "-0.7636488375576117",
         "-0.8776625572329028"
        ],
        [
         "2652",
         "-0.14307025324232542",
         "1",
         "-1.3674854054251513",
         "-1.341766174857858",
         "1",
         "-0.9951110702086746",
         "-1.2201537757329275"
        ],
        [
         "975",
         "-1.2912380101357315",
         "0",
         "1.0519357059081786",
         "0.42610543959945857",
         "0",
         "1.0880490236508917",
         "0.14981109826717096"
        ],
        [
         "1713",
         "-0.43011219246567695",
         "0",
         "1.3975672932415113",
         "0.8680733432137877",
         "0",
         "1.7824357216040803",
         "-0.19268012023285364"
        ],
        [
         "231",
         "0.4310136252043775",
         "1",
         "-0.6762222307584856",
         "-0.8997982712435287",
         "1",
         "-0.9951110702086746",
         "-0.8776625572329028"
        ],
        [
         "553",
         "0.4310136252043775",
         "1",
         "-0.3305906434251528",
         "-1.341766174857858",
         "1",
         "-1.2265733028597374",
         "-0.5351713387328783"
        ],
        [
         "669",
         "1.866223321321135",
         "1",
         "-1.3674854054251513",
         "-0.45783036762919965",
         "1",
         "-0.7636488375576117",
         "-0.8776625572329028"
        ],
        [
         "2239",
         "-1.0041960709123798",
         "0",
         "0.3606725312415129",
         "1.3100412468281168",
         "0",
         "1.3195112563019544",
         "-0.19268012023285364"
        ],
        [
         "1283",
         "-0.43011219246567695",
         "0",
         "0.7063041185748458",
         "1.752009150442446",
         "0",
         "-0.06926213960442294",
         "1.8622671907672939"
        ],
        [
         "2146",
         "1.292139442874432",
         "1",
         "-0.6762222307584856",
         "-0.8997982712435287",
         "1",
         "-0.3007243722554859",
         "-1.2201537757329275"
        ],
        [
         "999",
         "-0.43011219246567695",
         "0",
         "1.7431988805748442",
         "1.752009150442446",
         "0",
         "0.8565867909998287",
         "0.8347935352672201"
        ],
        [
         "1454",
         "-0.7171541316890284",
         "0",
         "1.7431988805748442",
         "1.3100412468281168",
         "0",
         "0.6251245583487658",
         "0.8347935352672201"
        ],
        [
         "1000",
         "1.866223321321135",
         "1",
         "-0.6762222307584856",
         "-0.8997982712435287",
         "1",
         "-1.4580355355108003",
         "-1.2201537757329275"
        ],
        [
         "1507",
         "-1.2912380101357315",
         "0",
         "0.015040943908180013",
         "-0.015862464014870563",
         "0",
         "1.7824357216040803",
         "1.8622671907672939"
        ],
        [
         "1490",
         "1.0050975036510805",
         "1",
         "-1.0218538180918186",
         "-1.341766174857858",
         "1",
         "-1.2265733028597374",
         "-1.2201537757329275"
        ],
        [
         "2014",
         "-1.2912380101357315",
         "0",
         "1.3975672932415113",
         "0.8680733432137877",
         "0",
         "0.8565867909998287",
         "0.49230231676719555"
        ],
        [
         "983",
         "-0.14307025324232542",
         "1",
         "-0.6762222307584856",
         "-1.341766174857858",
         "1",
         "-0.5321866049065488",
         "-1.2201537757329275"
        ],
        [
         "1835",
         "-0.43011219246567695",
         "0",
         "0.3606725312415129",
         "0.42610543959945857",
         "0",
         "0.8565867909998287",
         "0.8347935352672201"
        ],
        [
         "2671",
         "-1.0041960709123798",
         "0",
         "1.7431988805748442",
         "1.3100412468281168",
         "0",
         "0.16220009304663996",
         "-0.19268012023285364"
        ],
        [
         "1882",
         "-0.14307025324232542",
         "1",
         "-0.6762222307584856",
         "-0.8997982712435287",
         "1",
         "-0.7636488375576117",
         "-0.8776625572329028"
        ],
        [
         "603",
         "1.5791813820977836",
         "1",
         "-0.6762222307584856",
         "-0.45783036762919965",
         "1",
         "-0.3007243722554859",
         "-0.5351713387328783"
        ],
        [
         "1204",
         "1.292139442874432",
         "1",
         "-0.6762222307584856",
         "-0.45783036762919965",
         "1",
         "-0.7636488375576117",
         "-1.2201537757329275"
        ],
        [
         "720",
         "-0.43011219246567695",
         "0",
         "0.015040943908180013",
         "0.42610543959945857",
         "0",
         "1.7824357216040803",
         "1.1772847537672448"
        ],
        [
         "2720",
         "1.866223321321135",
         "1",
         "-1.3674854054251513",
         "-0.8997982712435287",
         "1",
         "-0.7636488375576117",
         "-0.8776625572329028"
        ],
        [
         "1988",
         "-0.14307025324232542",
         "1",
         "-0.6762222307584856",
         "-1.341766174857858",
         "1",
         "-0.7636488375576117",
         "-1.2201537757329275"
        ],
        [
         "1042",
         "-0.7171541316890284",
         "0",
         "0.3606725312415129",
         "1.3100412468281168",
         "0",
         "0.3936623256977029",
         "1.1772847537672448"
        ],
        [
         "2103",
         "1.5791813820977836",
         "1",
         "-1.0218538180918186",
         "-1.341766174857858",
         "1",
         "-0.3007243722554859",
         "-0.5351713387328783"
        ],
        [
         "1877",
         "-0.43011219246567695",
         "0",
         "0.7063041185748458",
         "0.42610543959945857",
         "0",
         "1.5509734889530173",
         "-0.19268012023285364"
        ],
        [
         "1383",
         "0.4310136252043775",
         "1",
         "-0.3305906434251528",
         "-0.8997982712435287",
         "1",
         "-0.5321866049065488",
         "-1.2201537757329275"
        ],
        [
         "978",
         "0.14397168598102605",
         "1",
         "-0.3305906434251528",
         "-1.341766174857858",
         "1",
         "-1.4580355355108003",
         "-0.8776625572329028"
        ],
        [
         "2319",
         "0.718055564427729",
         "1",
         "-1.3674854054251513",
         "-0.45783036762919965",
         "1",
         "-0.9951110702086746",
         "-1.2201537757329275"
        ]
       ],
       "shape": {
        "columns": 7,
        "rows": 124
       }
      },
      "text/html": [
       "<div>\n",
       "<style scoped>\n",
       "    .dataframe tbody tr th:only-of-type {\n",
       "        vertical-align: middle;\n",
       "    }\n",
       "\n",
       "    .dataframe tbody tr th {\n",
       "        vertical-align: top;\n",
       "    }\n",
       "\n",
       "    .dataframe thead th {\n",
       "        text-align: right;\n",
       "    }\n",
       "</style>\n",
       "<table border=\"1\" class=\"dataframe\">\n",
       "  <thead>\n",
       "    <tr style=\"text-align: right;\">\n",
       "      <th></th>\n",
       "      <th>Time_spent_Alone</th>\n",
       "      <th>Stage_fear</th>\n",
       "      <th>Social_event_attendance</th>\n",
       "      <th>Going_outside</th>\n",
       "      <th>Drained_after_socializing</th>\n",
       "      <th>Friends_circle_size</th>\n",
       "      <th>Post_frequency</th>\n",
       "    </tr>\n",
       "  </thead>\n",
       "  <tbody>\n",
       "    <tr>\n",
       "      <th>46</th>\n",
       "      <td>-0.143070</td>\n",
       "      <td>0</td>\n",
       "      <td>1.051936</td>\n",
       "      <td>0.426105</td>\n",
       "      <td>0</td>\n",
       "      <td>1.550973</td>\n",
       "      <td>2.204758</td>\n",
       "    </tr>\n",
       "    <tr>\n",
       "      <th>2411</th>\n",
       "      <td>-0.430112</td>\n",
       "      <td>0</td>\n",
       "      <td>1.743199</td>\n",
       "      <td>1.310041</td>\n",
       "      <td>0</td>\n",
       "      <td>1.550973</td>\n",
       "      <td>1.519776</td>\n",
       "    </tr>\n",
       "    <tr>\n",
       "      <th>2272</th>\n",
       "      <td>-1.291238</td>\n",
       "      <td>0</td>\n",
       "      <td>1.743199</td>\n",
       "      <td>0.868073</td>\n",
       "      <td>0</td>\n",
       "      <td>-0.069262</td>\n",
       "      <td>1.177285</td>\n",
       "    </tr>\n",
       "    <tr>\n",
       "      <th>580</th>\n",
       "      <td>-0.430112</td>\n",
       "      <td>0</td>\n",
       "      <td>1.397567</td>\n",
       "      <td>0.426105</td>\n",
       "      <td>0</td>\n",
       "      <td>0.162200</td>\n",
       "      <td>0.492302</td>\n",
       "    </tr>\n",
       "    <tr>\n",
       "      <th>1391</th>\n",
       "      <td>1.579181</td>\n",
       "      <td>1</td>\n",
       "      <td>-0.676222</td>\n",
       "      <td>-1.341766</td>\n",
       "      <td>1</td>\n",
       "      <td>-0.300724</td>\n",
       "      <td>-0.535171</td>\n",
       "    </tr>\n",
       "    <tr>\n",
       "      <th>...</th>\n",
       "      <td>...</td>\n",
       "      <td>...</td>\n",
       "      <td>...</td>\n",
       "      <td>...</td>\n",
       "      <td>...</td>\n",
       "      <td>...</td>\n",
       "      <td>...</td>\n",
       "    </tr>\n",
       "    <tr>\n",
       "      <th>1356</th>\n",
       "      <td>0.718056</td>\n",
       "      <td>1</td>\n",
       "      <td>-1.367485</td>\n",
       "      <td>-1.341766</td>\n",
       "      <td>1</td>\n",
       "      <td>-1.226573</td>\n",
       "      <td>-0.535171</td>\n",
       "    </tr>\n",
       "    <tr>\n",
       "      <th>2696</th>\n",
       "      <td>1.579181</td>\n",
       "      <td>1</td>\n",
       "      <td>-1.021854</td>\n",
       "      <td>-0.899798</td>\n",
       "      <td>1</td>\n",
       "      <td>-1.226573</td>\n",
       "      <td>-0.535171</td>\n",
       "    </tr>\n",
       "    <tr>\n",
       "      <th>2552</th>\n",
       "      <td>-0.430112</td>\n",
       "      <td>0</td>\n",
       "      <td>0.360673</td>\n",
       "      <td>1.310041</td>\n",
       "      <td>0</td>\n",
       "      <td>0.393662</td>\n",
       "      <td>1.519776</td>\n",
       "    </tr>\n",
       "    <tr>\n",
       "      <th>481</th>\n",
       "      <td>1.866223</td>\n",
       "      <td>1</td>\n",
       "      <td>-0.676222</td>\n",
       "      <td>-0.899798</td>\n",
       "      <td>1</td>\n",
       "      <td>-1.458036</td>\n",
       "      <td>-0.877663</td>\n",
       "    </tr>\n",
       "    <tr>\n",
       "      <th>270</th>\n",
       "      <td>0.431014</td>\n",
       "      <td>1</td>\n",
       "      <td>-1.367485</td>\n",
       "      <td>-0.457830</td>\n",
       "      <td>1</td>\n",
       "      <td>-1.226573</td>\n",
       "      <td>-1.220154</td>\n",
       "    </tr>\n",
       "  </tbody>\n",
       "</table>\n",
       "<p>124 rows × 7 columns</p>\n",
       "</div>"
      ],
      "text/plain": [
       "      Time_spent_Alone  Stage_fear  Social_event_attendance  Going_outside  \\\n",
       "46           -0.143070           0                 1.051936       0.426105   \n",
       "2411         -0.430112           0                 1.743199       1.310041   \n",
       "2272         -1.291238           0                 1.743199       0.868073   \n",
       "580          -0.430112           0                 1.397567       0.426105   \n",
       "1391          1.579181           1                -0.676222      -1.341766   \n",
       "...                ...         ...                      ...            ...   \n",
       "1356          0.718056           1                -1.367485      -1.341766   \n",
       "2696          1.579181           1                -1.021854      -0.899798   \n",
       "2552         -0.430112           0                 0.360673       1.310041   \n",
       "481           1.866223           1                -0.676222      -0.899798   \n",
       "270           0.431014           1                -1.367485      -0.457830   \n",
       "\n",
       "      Drained_after_socializing  Friends_circle_size  Post_frequency  \n",
       "46                            0             1.550973        2.204758  \n",
       "2411                          0             1.550973        1.519776  \n",
       "2272                          0            -0.069262        1.177285  \n",
       "580                           0             0.162200        0.492302  \n",
       "1391                          1            -0.300724       -0.535171  \n",
       "...                         ...                  ...             ...  \n",
       "1356                          1            -1.226573       -0.535171  \n",
       "2696                          1            -1.226573       -0.535171  \n",
       "2552                          0             0.393662        1.519776  \n",
       "481                           1            -1.458036       -0.877663  \n",
       "270                           1            -1.226573       -1.220154  \n",
       "\n",
       "[124 rows x 7 columns]"
      ]
     },
     "execution_count": 36,
     "metadata": {},
     "output_type": "execute_result"
    }
   ],
   "source": [
    "x_val[\"Drained_after_socializing\"]=le.transform(x_val[\"Drained_after_socializing\"])\n",
    "x_val[\"Stage_fear\"]=le.transform(x_val[\"Stage_fear\"])\n",
    "x_val"
   ]
  },
  {
   "cell_type": "code",
   "execution_count": 37,
   "id": "639585a2",
   "metadata": {},
   "outputs": [
    {
     "data": {
      "application/vnd.microsoft.datawrangler.viewer.v0+json": {
       "columns": [
        {
         "name": "index",
         "rawType": "int64",
         "type": "integer"
        },
        {
         "name": "Time_spent_Alone",
         "rawType": "float64",
         "type": "float"
        },
        {
         "name": "Stage_fear",
         "rawType": "int64",
         "type": "integer"
        },
        {
         "name": "Social_event_attendance",
         "rawType": "float64",
         "type": "float"
        },
        {
         "name": "Going_outside",
         "rawType": "float64",
         "type": "float"
        },
        {
         "name": "Drained_after_socializing",
         "rawType": "int64",
         "type": "integer"
        },
        {
         "name": "Friends_circle_size",
         "rawType": "float64",
         "type": "float"
        },
        {
         "name": "Post_frequency",
         "rawType": "float64",
         "type": "float"
        }
       ],
       "ref": "b9b2b820-acef-4d04-a264-4374351cb833",
       "rows": [
        [
         "1191",
         "1.0050975036510805",
         "1",
         "-0.3305906434251528",
         "-0.8997982712435287",
         "1",
         "-0.7636488375576117",
         "-1.2201537757329275"
        ],
        [
         "489",
         "1.866223321321135",
         "1",
         "-0.3305906434251528",
         "-0.8997982712435287",
         "1",
         "-0.3007243722554859",
         "-0.5351713387328783"
        ],
        [
         "2684",
         "0.14397168598102605",
         "1",
         "-0.3305906434251528",
         "-0.8997982712435287",
         "1",
         "-0.7636488375576117",
         "-0.8776625572329028"
        ],
        [
         "2459",
         "-0.43011219246567695",
         "0",
         "0.015040943908180013",
         "0.8680733432137877",
         "0",
         "-0.3007243722554859",
         "0.14981109826717096"
        ],
        [
         "552",
         "1.0050975036510805",
         "1",
         "-0.6762222307584856",
         "-1.341766174857858",
         "1",
         "-0.7636488375576117",
         "-0.5351713387328783"
        ],
        [
         "185",
         "1.5791813820977836",
         "1",
         "-1.0218538180918186",
         "-1.341766174857858",
         "1",
         "-1.4580355355108003",
         "-0.19268012023285364"
        ],
        [
         "2089",
         "0.718055564427729",
         "1",
         "-0.6762222307584856",
         "-1.341766174857858",
         "1",
         "-0.7636488375576117",
         "-0.8776625572329028"
        ],
        [
         "1753",
         "1.5791813820977836",
         "1",
         "-0.3305906434251528",
         "-0.8997982712435287",
         "1",
         "-0.7636488375576117",
         "-0.5351713387328783"
        ],
        [
         "153",
         "1.292139442874432",
         "1",
         "-0.6762222307584856",
         "-0.015862464014870563",
         "1",
         "-1.4580355355108003",
         "-0.8776625572329028"
        ],
        [
         "714",
         "-0.7171541316890284",
         "0",
         "0.7063041185748458",
         "0.8680733432137877",
         "0",
         "0.16220009304663996",
         "1.8622671907672939"
        ],
        [
         "1727",
         "-0.7171541316890284",
         "0",
         "0.7063041185748458",
         "0.42610543959945857",
         "0",
         "0.3936623256977029",
         "1.5197759722672692"
        ],
        [
         "60",
         "-1.0041960709123798",
         "0",
         "1.7431988805748442",
         "0.8680733432137877",
         "0",
         "0.6251245583487658",
         "2.2047584092673183"
        ],
        [
         "1470",
         "-0.7171541316890284",
         "0",
         "0.7063041185748458",
         "-0.015862464014870563",
         "0",
         "0.16220009304663996",
         "0.14981109826717096"
        ],
        [
         "1525",
         "1.0050975036510805",
         "1",
         "-1.3674854054251513",
         "-0.45783036762919965",
         "1",
         "-0.7636488375576117",
         "-0.5351713387328783"
        ],
        [
         "1986",
         "-0.14307025324232542",
         "1",
         "-0.6762222307584856",
         "-0.45783036762919965",
         "1",
         "-0.9951110702086746",
         "-1.2201537757329275"
        ],
        [
         "358",
         "-1.2912380101357315",
         "0",
         "0.015040943908180013",
         "1.752009150442446",
         "0",
         "-0.5321866049065488",
         "0.49230231676719555"
        ],
        [
         "1773",
         "-1.2912380101357315",
         "0",
         "0.015040943908180013",
         "0.42610543959945857",
         "0",
         "1.0880490236508917",
         "0.14981109826717096"
        ],
        [
         "1473",
         "-0.7171541316890284",
         "0",
         "0.015040943908180013",
         "0.8680733432137877",
         "0",
         "0.6251245583487658",
         "-0.19268012023285364"
        ],
        [
         "2899",
         "-0.43011219246567695",
         "0",
         "0.7063041185748458",
         "1.3100412468281168",
         "0",
         "-0.06926213960442294",
         "1.8622671907672939"
        ],
        [
         "965",
         "-0.43011219246567695",
         "0",
         "1.7431988805748442",
         "0.8680733432137877",
         "0",
         "1.3195112563019544",
         "1.1772847537672448"
        ],
        [
         "882",
         "-0.14307025324232542",
         "1",
         "-1.3674854054251513",
         "-0.45783036762919965",
         "1",
         "-1.4580355355108003",
         "-0.8776625572329028"
        ],
        [
         "2778",
         "0.14397168598102605",
         "1",
         "-1.0218538180918186",
         "-0.8997982712435287",
         "1",
         "-0.9951110702086746",
         "-0.5351713387328783"
        ],
        [
         "840",
         "-0.7171541316890284",
         "0",
         "0.3606725312415129",
         "1.752009150442446",
         "0",
         "1.0880490236508917",
         "1.8622671907672939"
        ],
        [
         "1103",
         "1.866223321321135",
         "1",
         "-0.3305906434251528",
         "-0.8997982712435287",
         "1",
         "-1.4580355355108003",
         "-1.2201537757329275"
        ],
        [
         "1341",
         "1.0050975036510805",
         "1",
         "-1.3674854054251513",
         "-0.8997982712435287",
         "1",
         "-0.3007243722554859",
         "-1.2201537757329275"
        ],
        [
         "770",
         "-0.14307025324232542",
         "1",
         "-1.0218538180918186",
         "-1.341766174857858",
         "1",
         "-0.3007243722554859",
         "-1.2201537757329275"
        ],
        [
         "663",
         "0.4310136252043775",
         "1",
         "-0.3305906434251528",
         "-0.45783036762919965",
         "1",
         "-0.5321866049065488",
         "-0.5351713387328783"
        ],
        [
         "1559",
         "-1.2912380101357315",
         "0",
         "0.3606725312415129",
         "1.3100412468281168",
         "0",
         "0.6251245583487658",
         "0.8347935352672201"
        ],
        [
         "886",
         "-0.14307025324232542",
         "1",
         "-0.6762222307584856",
         "-1.341766174857858",
         "1",
         "-1.2265733028597374",
         "-0.8776625572329028"
        ],
        [
         "188",
         "0.718055564427729",
         "1",
         "-0.6762222307584856",
         "-0.8997982712435287",
         "1",
         "-1.2265733028597374",
         "-0.5351713387328783"
        ],
        [
         "1870",
         "0.718055564427729",
         "1",
         "-1.0218538180918186",
         "-0.45783036762919965",
         "1",
         "-0.5321866049065488",
         "-0.5351713387328783"
        ],
        [
         "1402",
         "-0.43011219246567695",
         "0",
         "1.3975672932415113",
         "0.8680733432137877",
         "0",
         "0.3936623256977029",
         "1.8622671907672939"
        ],
        [
         "1630",
         "-1.0041960709123798",
         "0",
         "1.7431988805748442",
         "1.3100412468281168",
         "0",
         "0.6251245583487658",
         "1.5197759722672692"
        ],
        [
         "1957",
         "1.292139442874432",
         "1",
         "-1.3674854054251513",
         "-1.341766174857858",
         "1",
         "-0.3007243722554859",
         "-1.2201537757329275"
        ],
        [
         "1328",
         "-1.0041960709123798",
         "0",
         "1.3975672932415113",
         "0.42610543959945857",
         "0",
         "0.6251245583487658",
         "1.1772847537672448"
        ],
        [
         "2195",
         "-0.43011219246567695",
         "0",
         "0.3606725312415129",
         "1.3100412468281168",
         "0",
         "1.5509734889530173",
         "1.1772847537672448"
        ],
        [
         "146",
         "1.292139442874432",
         "1",
         "-1.0218538180918186",
         "-1.341766174857858",
         "1",
         "-1.4580355355108003",
         "-1.2201537757329275"
        ],
        [
         "1534",
         "-1.2912380101357315",
         "0",
         "1.0519357059081786",
         "0.8680733432137877",
         "0",
         "0.16220009304663996",
         "1.8622671907672939"
        ],
        [
         "2875",
         "-1.2912380101357315",
         "0",
         "1.3975672932415113",
         "0.8680733432137877",
         "0",
         "1.7824357216040803",
         "0.49230231676719555"
        ],
        [
         "1389",
         "0.14397168598102605",
         "1",
         "-1.3674854054251513",
         "-0.45783036762919965",
         "1",
         "-1.2265733028597374",
         "-0.8776625572329028"
        ],
        [
         "823",
         "-0.7171541316890284",
         "0",
         "0.015040943908180013",
         "0.8680733432137877",
         "0",
         "1.5509734889530173",
         "0.14981109826717096"
        ],
        [
         "1530",
         "0.14397168598102605",
         "1",
         "-1.3674854054251513",
         "-0.8997982712435287",
         "1",
         "-0.7636488375576117",
         "-0.5351713387328783"
        ],
        [
         "2762",
         "-0.7171541316890284",
         "0",
         "1.7431988805748442",
         "-0.015862464014870563",
         "0",
         "1.3195112563019544",
         "0.49230231676719555"
        ],
        [
         "1102",
         "-0.7171541316890284",
         "0",
         "0.3606725312415129",
         "0.8680733432137877",
         "0",
         "1.7824357216040803",
         "1.8622671907672939"
        ],
        [
         "771",
         "-0.7171541316890284",
         "0",
         "0.3606725312415129",
         "1.3100412468281168",
         "0",
         "1.5509734889530173",
         "0.14981109826717096"
        ],
        [
         "1778",
         "1.5791813820977836",
         "1",
         "-0.6762222307584856",
         "-0.8997982712435287",
         "1",
         "-0.7636488375576117",
         "-0.8776625572329028"
        ],
        [
         "105",
         "-1.2912380101357315",
         "0",
         "0.7063041185748458",
         "1.752009150442446",
         "0",
         "1.3195112563019544",
         "1.8622671907672939"
        ],
        [
         "262",
         "0.718055564427729",
         "1",
         "-0.6762222307584856",
         "-0.45783036762919965",
         "1",
         "-0.9951110702086746",
         "-0.5351713387328783"
        ],
        [
         "2521",
         "-0.43011219246567695",
         "0",
         "0.015040943908180013",
         "-0.015862464014870563",
         "0",
         "1.3195112563019544",
         "1.1772847537672448"
        ],
        [
         "869",
         "1.5791813820977836",
         "1",
         "-0.6762222307584856",
         "-0.8997982712435287",
         "1",
         "-0.9951110702086746",
         "-0.8776625572329028"
        ]
       ],
       "shape": {
        "columns": 7,
        "rows": 124
       }
      },
      "text/html": [
       "<div>\n",
       "<style scoped>\n",
       "    .dataframe tbody tr th:only-of-type {\n",
       "        vertical-align: middle;\n",
       "    }\n",
       "\n",
       "    .dataframe tbody tr th {\n",
       "        vertical-align: top;\n",
       "    }\n",
       "\n",
       "    .dataframe thead th {\n",
       "        text-align: right;\n",
       "    }\n",
       "</style>\n",
       "<table border=\"1\" class=\"dataframe\">\n",
       "  <thead>\n",
       "    <tr style=\"text-align: right;\">\n",
       "      <th></th>\n",
       "      <th>Time_spent_Alone</th>\n",
       "      <th>Stage_fear</th>\n",
       "      <th>Social_event_attendance</th>\n",
       "      <th>Going_outside</th>\n",
       "      <th>Drained_after_socializing</th>\n",
       "      <th>Friends_circle_size</th>\n",
       "      <th>Post_frequency</th>\n",
       "    </tr>\n",
       "  </thead>\n",
       "  <tbody>\n",
       "    <tr>\n",
       "      <th>1191</th>\n",
       "      <td>1.005098</td>\n",
       "      <td>1</td>\n",
       "      <td>-0.330591</td>\n",
       "      <td>-0.899798</td>\n",
       "      <td>1</td>\n",
       "      <td>-0.763649</td>\n",
       "      <td>-1.220154</td>\n",
       "    </tr>\n",
       "    <tr>\n",
       "      <th>489</th>\n",
       "      <td>1.866223</td>\n",
       "      <td>1</td>\n",
       "      <td>-0.330591</td>\n",
       "      <td>-0.899798</td>\n",
       "      <td>1</td>\n",
       "      <td>-0.300724</td>\n",
       "      <td>-0.535171</td>\n",
       "    </tr>\n",
       "    <tr>\n",
       "      <th>2684</th>\n",
       "      <td>0.143972</td>\n",
       "      <td>1</td>\n",
       "      <td>-0.330591</td>\n",
       "      <td>-0.899798</td>\n",
       "      <td>1</td>\n",
       "      <td>-0.763649</td>\n",
       "      <td>-0.877663</td>\n",
       "    </tr>\n",
       "    <tr>\n",
       "      <th>2459</th>\n",
       "      <td>-0.430112</td>\n",
       "      <td>0</td>\n",
       "      <td>0.015041</td>\n",
       "      <td>0.868073</td>\n",
       "      <td>0</td>\n",
       "      <td>-0.300724</td>\n",
       "      <td>0.149811</td>\n",
       "    </tr>\n",
       "    <tr>\n",
       "      <th>552</th>\n",
       "      <td>1.005098</td>\n",
       "      <td>1</td>\n",
       "      <td>-0.676222</td>\n",
       "      <td>-1.341766</td>\n",
       "      <td>1</td>\n",
       "      <td>-0.763649</td>\n",
       "      <td>-0.535171</td>\n",
       "    </tr>\n",
       "    <tr>\n",
       "      <th>...</th>\n",
       "      <td>...</td>\n",
       "      <td>...</td>\n",
       "      <td>...</td>\n",
       "      <td>...</td>\n",
       "      <td>...</td>\n",
       "      <td>...</td>\n",
       "      <td>...</td>\n",
       "    </tr>\n",
       "    <tr>\n",
       "      <th>666</th>\n",
       "      <td>-0.430112</td>\n",
       "      <td>0</td>\n",
       "      <td>0.015041</td>\n",
       "      <td>0.868073</td>\n",
       "      <td>0</td>\n",
       "      <td>1.088049</td>\n",
       "      <td>0.149811</td>\n",
       "    </tr>\n",
       "    <tr>\n",
       "      <th>1113</th>\n",
       "      <td>-0.143070</td>\n",
       "      <td>1</td>\n",
       "      <td>-1.021854</td>\n",
       "      <td>-0.457830</td>\n",
       "      <td>1</td>\n",
       "      <td>-0.995111</td>\n",
       "      <td>-0.535171</td>\n",
       "    </tr>\n",
       "    <tr>\n",
       "      <th>685</th>\n",
       "      <td>-1.291238</td>\n",
       "      <td>0</td>\n",
       "      <td>1.743199</td>\n",
       "      <td>0.426105</td>\n",
       "      <td>0</td>\n",
       "      <td>0.856587</td>\n",
       "      <td>0.492302</td>\n",
       "    </tr>\n",
       "    <tr>\n",
       "      <th>523</th>\n",
       "      <td>-0.143070</td>\n",
       "      <td>1</td>\n",
       "      <td>-1.367485</td>\n",
       "      <td>-1.341766</td>\n",
       "      <td>1</td>\n",
       "      <td>-1.458036</td>\n",
       "      <td>-0.877663</td>\n",
       "    </tr>\n",
       "    <tr>\n",
       "      <th>2053</th>\n",
       "      <td>-0.430112</td>\n",
       "      <td>0</td>\n",
       "      <td>1.051936</td>\n",
       "      <td>-0.015862</td>\n",
       "      <td>0</td>\n",
       "      <td>1.319511</td>\n",
       "      <td>0.834794</td>\n",
       "    </tr>\n",
       "  </tbody>\n",
       "</table>\n",
       "<p>124 rows × 7 columns</p>\n",
       "</div>"
      ],
      "text/plain": [
       "      Time_spent_Alone  Stage_fear  Social_event_attendance  Going_outside  \\\n",
       "1191          1.005098           1                -0.330591      -0.899798   \n",
       "489           1.866223           1                -0.330591      -0.899798   \n",
       "2684          0.143972           1                -0.330591      -0.899798   \n",
       "2459         -0.430112           0                 0.015041       0.868073   \n",
       "552           1.005098           1                -0.676222      -1.341766   \n",
       "...                ...         ...                      ...            ...   \n",
       "666          -0.430112           0                 0.015041       0.868073   \n",
       "1113         -0.143070           1                -1.021854      -0.457830   \n",
       "685          -1.291238           0                 1.743199       0.426105   \n",
       "523          -0.143070           1                -1.367485      -1.341766   \n",
       "2053         -0.430112           0                 1.051936      -0.015862   \n",
       "\n",
       "      Drained_after_socializing  Friends_circle_size  Post_frequency  \n",
       "1191                          1            -0.763649       -1.220154  \n",
       "489                           1            -0.300724       -0.535171  \n",
       "2684                          1            -0.763649       -0.877663  \n",
       "2459                          0            -0.300724        0.149811  \n",
       "552                           1            -0.763649       -0.535171  \n",
       "...                         ...                  ...             ...  \n",
       "666                           0             1.088049        0.149811  \n",
       "1113                          1            -0.995111       -0.535171  \n",
       "685                           0             0.856587        0.492302  \n",
       "523                           1            -1.458036       -0.877663  \n",
       "2053                          0             1.319511        0.834794  \n",
       "\n",
       "[124 rows x 7 columns]"
      ]
     },
     "execution_count": 37,
     "metadata": {},
     "output_type": "execute_result"
    }
   ],
   "source": [
    "x_test[\"Drained_after_socializing\"]=le.transform(x_test[\"Drained_after_socializing\"])\n",
    "x_test[\"Stage_fear\"]=le.transform(x_test[\"Stage_fear\"])\n",
    "x_test"
   ]
  },
  {
   "cell_type": "code",
   "execution_count": 38,
   "id": "53f8bcc0",
   "metadata": {},
   "outputs": [
    {
     "data": {
      "application/vnd.microsoft.datawrangler.viewer.v0+json": {
       "columns": [
        {
         "name": "index",
         "rawType": "int64",
         "type": "integer"
        },
        {
         "name": "Personality",
         "rawType": "int64",
         "type": "integer"
        }
       ],
       "ref": "2e1e0c5b-00a0-492b-93b4-6e7cb839deac",
       "rows": [
        [
         "1176",
         "0"
        ],
        [
         "1311",
         "0"
        ],
        [
         "1435",
         "0"
        ],
        [
         "684",
         "1"
        ],
        [
         "2467",
         "1"
        ],
        [
         "958",
         "0"
        ],
        [
         "2490",
         "0"
        ],
        [
         "634",
         "1"
        ],
        [
         "772",
         "0"
        ],
        [
         "1849",
         "1"
        ],
        [
         "1524",
         "1"
        ],
        [
         "271",
         "1"
        ],
        [
         "329",
         "0"
        ],
        [
         "2185",
         "0"
        ],
        [
         "1624",
         "1"
        ],
        [
         "1087",
         "1"
        ],
        [
         "707",
         "0"
        ],
        [
         "30",
         "0"
        ],
        [
         "457",
         "0"
        ],
        [
         "1235",
         "1"
        ],
        [
         "1439",
         "1"
        ],
        [
         "586",
         "0"
        ],
        [
         "1277",
         "0"
        ],
        [
         "2420",
         "0"
        ],
        [
         "412",
         "1"
        ],
        [
         "455",
         "0"
        ],
        [
         "870",
         "1"
        ],
        [
         "1330",
         "1"
        ],
        [
         "1758",
         "0"
        ],
        [
         "855",
         "0"
        ],
        [
         "1024",
         "1"
        ],
        [
         "1138",
         "1"
        ],
        [
         "228",
         "1"
        ],
        [
         "2450",
         "0"
        ],
        [
         "2581",
         "1"
        ],
        [
         "2006",
         "1"
        ],
        [
         "1665",
         "0"
        ],
        [
         "1848",
         "1"
        ],
        [
         "2288",
         "1"
        ],
        [
         "2182",
         "1"
        ],
        [
         "1815",
         "1"
        ],
        [
         "1543",
         "1"
        ],
        [
         "217",
         "1"
        ],
        [
         "252",
         "1"
        ],
        [
         "785",
         "1"
        ],
        [
         "1760",
         "1"
        ],
        [
         "486",
         "0"
        ],
        [
         "1137",
         "0"
        ],
        [
         "1662",
         "1"
        ],
        [
         "2444",
         "0"
        ]
       ],
       "shape": {
        "columns": 1,
        "rows": 2229
       }
      },
      "text/html": [
       "<div>\n",
       "<style scoped>\n",
       "    .dataframe tbody tr th:only-of-type {\n",
       "        vertical-align: middle;\n",
       "    }\n",
       "\n",
       "    .dataframe tbody tr th {\n",
       "        vertical-align: top;\n",
       "    }\n",
       "\n",
       "    .dataframe thead th {\n",
       "        text-align: right;\n",
       "    }\n",
       "</style>\n",
       "<table border=\"1\" class=\"dataframe\">\n",
       "  <thead>\n",
       "    <tr style=\"text-align: right;\">\n",
       "      <th></th>\n",
       "      <th>Personality</th>\n",
       "    </tr>\n",
       "  </thead>\n",
       "  <tbody>\n",
       "    <tr>\n",
       "      <th>1176</th>\n",
       "      <td>0</td>\n",
       "    </tr>\n",
       "    <tr>\n",
       "      <th>1311</th>\n",
       "      <td>0</td>\n",
       "    </tr>\n",
       "    <tr>\n",
       "      <th>1435</th>\n",
       "      <td>0</td>\n",
       "    </tr>\n",
       "    <tr>\n",
       "      <th>684</th>\n",
       "      <td>1</td>\n",
       "    </tr>\n",
       "    <tr>\n",
       "      <th>2467</th>\n",
       "      <td>1</td>\n",
       "    </tr>\n",
       "    <tr>\n",
       "      <th>...</th>\n",
       "      <td>...</td>\n",
       "    </tr>\n",
       "    <tr>\n",
       "      <th>1863</th>\n",
       "      <td>0</td>\n",
       "    </tr>\n",
       "    <tr>\n",
       "      <th>1201</th>\n",
       "      <td>1</td>\n",
       "    </tr>\n",
       "    <tr>\n",
       "      <th>1238</th>\n",
       "      <td>1</td>\n",
       "    </tr>\n",
       "    <tr>\n",
       "      <th>1415</th>\n",
       "      <td>1</td>\n",
       "    </tr>\n",
       "    <tr>\n",
       "      <th>951</th>\n",
       "      <td>1</td>\n",
       "    </tr>\n",
       "  </tbody>\n",
       "</table>\n",
       "<p>2229 rows × 1 columns</p>\n",
       "</div>"
      ],
      "text/plain": [
       "      Personality\n",
       "1176            0\n",
       "1311            0\n",
       "1435            0\n",
       "684             1\n",
       "2467            1\n",
       "...           ...\n",
       "1863            0\n",
       "1201            1\n",
       "1238            1\n",
       "1415            1\n",
       "951             1\n",
       "\n",
       "[2229 rows x 1 columns]"
      ]
     },
     "execution_count": 38,
     "metadata": {},
     "output_type": "execute_result"
    }
   ],
   "source": [
    "y_train = pd.DataFrame(\n",
    "    le.fit_transform(y_train),\n",
    "    columns=[\"Personality\"],\n",
    "    index=y_train.index\n",
    ")\n",
    "y_train"
   ]
  },
  {
   "cell_type": "code",
   "execution_count": 39,
   "id": "9ffa71ab",
   "metadata": {},
   "outputs": [],
   "source": [
    "y_test = pd.DataFrame(\n",
    "    le.transform(y_test),\n",
    "    columns=[\"Personality\"],\n",
    "    index=y_test.index\n",
    ")"
   ]
  },
  {
   "cell_type": "code",
   "execution_count": 40,
   "id": "7fa607b6",
   "metadata": {},
   "outputs": [
    {
     "data": {
      "application/vnd.microsoft.datawrangler.viewer.v0+json": {
       "columns": [
        {
         "name": "index",
         "rawType": "int64",
         "type": "integer"
        },
        {
         "name": "Personality",
         "rawType": "int64",
         "type": "integer"
        }
       ],
       "ref": "56f126ac-eb3d-4de3-a2d7-8e4547a4718c",
       "rows": [
        [
         "1191",
         "1"
        ],
        [
         "489",
         "1"
        ],
        [
         "2684",
         "1"
        ],
        [
         "2459",
         "0"
        ],
        [
         "552",
         "1"
        ],
        [
         "185",
         "1"
        ],
        [
         "2089",
         "1"
        ],
        [
         "1753",
         "1"
        ],
        [
         "153",
         "1"
        ],
        [
         "714",
         "0"
        ],
        [
         "1727",
         "0"
        ],
        [
         "60",
         "0"
        ],
        [
         "1470",
         "0"
        ],
        [
         "1525",
         "1"
        ],
        [
         "1986",
         "1"
        ],
        [
         "358",
         "0"
        ],
        [
         "1773",
         "0"
        ],
        [
         "1473",
         "0"
        ],
        [
         "2899",
         "0"
        ],
        [
         "965",
         "0"
        ],
        [
         "882",
         "0"
        ],
        [
         "2778",
         "1"
        ],
        [
         "840",
         "0"
        ],
        [
         "1103",
         "1"
        ],
        [
         "1341",
         "1"
        ],
        [
         "770",
         "1"
        ],
        [
         "663",
         "1"
        ],
        [
         "1559",
         "0"
        ],
        [
         "886",
         "0"
        ],
        [
         "188",
         "1"
        ],
        [
         "1870",
         "1"
        ],
        [
         "1402",
         "0"
        ],
        [
         "1630",
         "0"
        ],
        [
         "1957",
         "1"
        ],
        [
         "1328",
         "0"
        ],
        [
         "2195",
         "0"
        ],
        [
         "146",
         "1"
        ],
        [
         "1534",
         "0"
        ],
        [
         "2875",
         "0"
        ],
        [
         "1389",
         "1"
        ],
        [
         "823",
         "0"
        ],
        [
         "1530",
         "1"
        ],
        [
         "2762",
         "0"
        ],
        [
         "1102",
         "0"
        ],
        [
         "771",
         "0"
        ],
        [
         "1778",
         "0"
        ],
        [
         "105",
         "0"
        ],
        [
         "262",
         "1"
        ],
        [
         "2521",
         "0"
        ],
        [
         "869",
         "1"
        ]
       ],
       "shape": {
        "columns": 1,
        "rows": 124
       }
      },
      "text/html": [
       "<div>\n",
       "<style scoped>\n",
       "    .dataframe tbody tr th:only-of-type {\n",
       "        vertical-align: middle;\n",
       "    }\n",
       "\n",
       "    .dataframe tbody tr th {\n",
       "        vertical-align: top;\n",
       "    }\n",
       "\n",
       "    .dataframe thead th {\n",
       "        text-align: right;\n",
       "    }\n",
       "</style>\n",
       "<table border=\"1\" class=\"dataframe\">\n",
       "  <thead>\n",
       "    <tr style=\"text-align: right;\">\n",
       "      <th></th>\n",
       "      <th>Personality</th>\n",
       "    </tr>\n",
       "  </thead>\n",
       "  <tbody>\n",
       "    <tr>\n",
       "      <th>1191</th>\n",
       "      <td>1</td>\n",
       "    </tr>\n",
       "    <tr>\n",
       "      <th>489</th>\n",
       "      <td>1</td>\n",
       "    </tr>\n",
       "    <tr>\n",
       "      <th>2684</th>\n",
       "      <td>1</td>\n",
       "    </tr>\n",
       "    <tr>\n",
       "      <th>2459</th>\n",
       "      <td>0</td>\n",
       "    </tr>\n",
       "    <tr>\n",
       "      <th>552</th>\n",
       "      <td>1</td>\n",
       "    </tr>\n",
       "    <tr>\n",
       "      <th>...</th>\n",
       "      <td>...</td>\n",
       "    </tr>\n",
       "    <tr>\n",
       "      <th>666</th>\n",
       "      <td>0</td>\n",
       "    </tr>\n",
       "    <tr>\n",
       "      <th>1113</th>\n",
       "      <td>1</td>\n",
       "    </tr>\n",
       "    <tr>\n",
       "      <th>685</th>\n",
       "      <td>0</td>\n",
       "    </tr>\n",
       "    <tr>\n",
       "      <th>523</th>\n",
       "      <td>1</td>\n",
       "    </tr>\n",
       "    <tr>\n",
       "      <th>2053</th>\n",
       "      <td>0</td>\n",
       "    </tr>\n",
       "  </tbody>\n",
       "</table>\n",
       "<p>124 rows × 1 columns</p>\n",
       "</div>"
      ],
      "text/plain": [
       "      Personality\n",
       "1191            1\n",
       "489             1\n",
       "2684            1\n",
       "2459            0\n",
       "552             1\n",
       "...           ...\n",
       "666             0\n",
       "1113            1\n",
       "685             0\n",
       "523             1\n",
       "2053            0\n",
       "\n",
       "[124 rows x 1 columns]"
      ]
     },
     "execution_count": 40,
     "metadata": {},
     "output_type": "execute_result"
    }
   ],
   "source": [
    "\n",
    "y_test"
   ]
  },
  {
   "cell_type": "code",
   "execution_count": 41,
   "id": "355e53b7",
   "metadata": {},
   "outputs": [],
   "source": [
    "y_val = pd.DataFrame(\n",
    "    le.transform(y_val),\n",
    "    columns=[\"Personality\"],\n",
    "    index=y_val.index\n",
    ")"
   ]
  },
  {
   "cell_type": "code",
   "execution_count": 42,
   "id": "f6e94344",
   "metadata": {},
   "outputs": [
    {
     "data": {
      "application/vnd.microsoft.datawrangler.viewer.v0+json": {
       "columns": [
        {
         "name": "index",
         "rawType": "int64",
         "type": "integer"
        },
        {
         "name": "Personality",
         "rawType": "int64",
         "type": "integer"
        }
       ],
       "ref": "05d51667-6137-4043-a76f-53485ab7d387",
       "rows": [
        [
         "46",
         "0"
        ],
        [
         "2411",
         "0"
        ],
        [
         "2272",
         "0"
        ],
        [
         "580",
         "0"
        ],
        [
         "1391",
         "1"
        ],
        [
         "808",
         "0"
        ],
        [
         "313",
         "0"
        ],
        [
         "1393",
         "1"
        ],
        [
         "1200",
         "1"
        ],
        [
         "2054",
         "1"
        ],
        [
         "241",
         "1"
        ],
        [
         "1958",
         "0"
        ],
        [
         "2793",
         "0"
        ],
        [
         "1962",
         "1"
        ],
        [
         "2523",
         "0"
        ],
        [
         "1023",
         "1"
        ],
        [
         "2227",
         "1"
        ],
        [
         "1428",
         "0"
        ],
        [
         "534",
         "1"
        ],
        [
         "1344",
         "0"
        ],
        [
         "2652",
         "1"
        ],
        [
         "975",
         "0"
        ],
        [
         "1713",
         "0"
        ],
        [
         "231",
         "1"
        ],
        [
         "553",
         "1"
        ],
        [
         "669",
         "1"
        ],
        [
         "2239",
         "0"
        ],
        [
         "1283",
         "0"
        ],
        [
         "2146",
         "1"
        ],
        [
         "999",
         "0"
        ],
        [
         "1454",
         "0"
        ],
        [
         "1000",
         "1"
        ],
        [
         "1507",
         "0"
        ],
        [
         "1490",
         "1"
        ],
        [
         "2014",
         "0"
        ],
        [
         "983",
         "1"
        ],
        [
         "1835",
         "0"
        ],
        [
         "2671",
         "0"
        ],
        [
         "1882",
         "1"
        ],
        [
         "603",
         "1"
        ],
        [
         "1204",
         "1"
        ],
        [
         "720",
         "1"
        ],
        [
         "2720",
         "1"
        ],
        [
         "1988",
         "1"
        ],
        [
         "1042",
         "0"
        ],
        [
         "2103",
         "1"
        ],
        [
         "1877",
         "0"
        ],
        [
         "1383",
         "1"
        ],
        [
         "978",
         "1"
        ],
        [
         "2319",
         "1"
        ]
       ],
       "shape": {
        "columns": 1,
        "rows": 124
       }
      },
      "text/html": [
       "<div>\n",
       "<style scoped>\n",
       "    .dataframe tbody tr th:only-of-type {\n",
       "        vertical-align: middle;\n",
       "    }\n",
       "\n",
       "    .dataframe tbody tr th {\n",
       "        vertical-align: top;\n",
       "    }\n",
       "\n",
       "    .dataframe thead th {\n",
       "        text-align: right;\n",
       "    }\n",
       "</style>\n",
       "<table border=\"1\" class=\"dataframe\">\n",
       "  <thead>\n",
       "    <tr style=\"text-align: right;\">\n",
       "      <th></th>\n",
       "      <th>Personality</th>\n",
       "    </tr>\n",
       "  </thead>\n",
       "  <tbody>\n",
       "    <tr>\n",
       "      <th>46</th>\n",
       "      <td>0</td>\n",
       "    </tr>\n",
       "    <tr>\n",
       "      <th>2411</th>\n",
       "      <td>0</td>\n",
       "    </tr>\n",
       "    <tr>\n",
       "      <th>2272</th>\n",
       "      <td>0</td>\n",
       "    </tr>\n",
       "    <tr>\n",
       "      <th>580</th>\n",
       "      <td>0</td>\n",
       "    </tr>\n",
       "    <tr>\n",
       "      <th>1391</th>\n",
       "      <td>1</td>\n",
       "    </tr>\n",
       "    <tr>\n",
       "      <th>...</th>\n",
       "      <td>...</td>\n",
       "    </tr>\n",
       "    <tr>\n",
       "      <th>1356</th>\n",
       "      <td>1</td>\n",
       "    </tr>\n",
       "    <tr>\n",
       "      <th>2696</th>\n",
       "      <td>1</td>\n",
       "    </tr>\n",
       "    <tr>\n",
       "      <th>2552</th>\n",
       "      <td>0</td>\n",
       "    </tr>\n",
       "    <tr>\n",
       "      <th>481</th>\n",
       "      <td>1</td>\n",
       "    </tr>\n",
       "    <tr>\n",
       "      <th>270</th>\n",
       "      <td>1</td>\n",
       "    </tr>\n",
       "  </tbody>\n",
       "</table>\n",
       "<p>124 rows × 1 columns</p>\n",
       "</div>"
      ],
      "text/plain": [
       "      Personality\n",
       "46              0\n",
       "2411            0\n",
       "2272            0\n",
       "580             0\n",
       "1391            1\n",
       "...           ...\n",
       "1356            1\n",
       "2696            1\n",
       "2552            0\n",
       "481             1\n",
       "270             1\n",
       "\n",
       "[124 rows x 1 columns]"
      ]
     },
     "execution_count": 42,
     "metadata": {},
     "output_type": "execute_result"
    }
   ],
   "source": [
    "y_val"
   ]
  },
  {
   "cell_type": "code",
   "execution_count": 43,
   "id": "a62a1628",
   "metadata": {},
   "outputs": [],
   "source": [
    "from sklearn.linear_model import LogisticRegression\n",
    "from sklearn.tree import DecisionTreeClassifier\n",
    "from sklearn.ensemble import RandomForestClassifier\n",
    "from sklearn.svm import SVC\n",
    "import xgboost as xgb\n",
    "from sklearn.model_selection import StratifiedKFold,cross_val_score\n",
    "from sklearn.ensemble import VotingClassifier\n"
   ]
  },
  {
   "cell_type": "code",
   "execution_count": 44,
   "id": "a7c6269c",
   "metadata": {},
   "outputs": [],
   "source": [
    "from sklearn.metrics import accuracy_score, precision_score, recall_score, f1_score\n",
    "from sklearn.metrics import classification_report, confusion_matrix, ConfusionMatrixDisplay"
   ]
  },
  {
   "cell_type": "code",
   "execution_count": 45,
   "id": "ee9a37fb",
   "metadata": {},
   "outputs": [],
   "source": [
    "cv = StratifiedKFold(n_splits=5, shuffle=True, random_state=42)"
   ]
  },
  {
   "cell_type": "code",
   "execution_count": 46,
   "id": "f485a7e1",
   "metadata": {},
   "outputs": [
    {
     "name": "stderr",
     "output_type": "stream",
     "text": [
      "c:\\Users\\zuz12\\AppData\\Local\\Programs\\Python\\Python312\\Lib\\site-packages\\sklearn\\utils\\validation.py:1408: DataConversionWarning: A column-vector y was passed when a 1d array was expected. Please change the shape of y to (n_samples, ), for example using ravel().\n",
      "  y = column_or_1d(y, warn=True)\n"
     ]
    }
   ],
   "source": [
    "logreg = LogisticRegression(max_iter=1000)\n",
    "logreg.fit(x_train, y_train)\n",
    "y_pred = logreg.predict(x_test)"
   ]
  },
  {
   "cell_type": "code",
   "execution_count": 47,
   "id": "81a26967",
   "metadata": {},
   "outputs": [
    {
     "name": "stdout",
     "output_type": "stream",
     "text": [
      "=== Logistic Regression ===\n",
      "Accuracy : 0.9193548387096774\n",
      "Precision: 0.9197916666666667\n",
      "Recall   : 0.9193548387096774\n",
      "F1 Score : 0.9193338537600833\n",
      "[[56  6]\n",
      " [ 4 58]]\n"
     ]
    }
   ],
   "source": [
    "print(\"=== Logistic Regression ===\")\n",
    "print(\"Accuracy :\", accuracy_score(y_test, y_pred))\n",
    "print(\"Precision:\", precision_score(y_test, y_pred, average=\"macro\"))\n",
    "print(\"Recall   :\", recall_score(y_test, y_pred, average=\"macro\"))\n",
    "print(\"F1 Score :\", f1_score(y_test, y_pred, average=\"macro\"))\n",
    "cm = confusion_matrix(y_test, y_pred)\n",
    "print(cm)"
   ]
  },
  {
   "cell_type": "code",
   "execution_count": 48,
   "id": "4700f141",
   "metadata": {},
   "outputs": [
    {
     "name": "stdout",
     "output_type": "stream",
     "text": [
      "log reg Accuracy: 0.9246294150249408 ± 0.009039283966164638\n"
     ]
    },
    {
     "name": "stderr",
     "output_type": "stream",
     "text": [
      "c:\\Users\\zuz12\\AppData\\Local\\Programs\\Python\\Python312\\Lib\\site-packages\\sklearn\\utils\\validation.py:1408: DataConversionWarning: A column-vector y was passed when a 1d array was expected. Please change the shape of y to (n_samples, ), for example using ravel().\n",
      "  y = column_or_1d(y, warn=True)\n",
      "c:\\Users\\zuz12\\AppData\\Local\\Programs\\Python\\Python312\\Lib\\site-packages\\sklearn\\utils\\validation.py:1408: DataConversionWarning: A column-vector y was passed when a 1d array was expected. Please change the shape of y to (n_samples, ), for example using ravel().\n",
      "  y = column_or_1d(y, warn=True)\n",
      "c:\\Users\\zuz12\\AppData\\Local\\Programs\\Python\\Python312\\Lib\\site-packages\\sklearn\\utils\\validation.py:1408: DataConversionWarning: A column-vector y was passed when a 1d array was expected. Please change the shape of y to (n_samples, ), for example using ravel().\n",
      "  y = column_or_1d(y, warn=True)\n",
      "c:\\Users\\zuz12\\AppData\\Local\\Programs\\Python\\Python312\\Lib\\site-packages\\sklearn\\utils\\validation.py:1408: DataConversionWarning: A column-vector y was passed when a 1d array was expected. Please change the shape of y to (n_samples, ), for example using ravel().\n",
      "  y = column_or_1d(y, warn=True)\n",
      "c:\\Users\\zuz12\\AppData\\Local\\Programs\\Python\\Python312\\Lib\\site-packages\\sklearn\\utils\\validation.py:1408: DataConversionWarning: A column-vector y was passed when a 1d array was expected. Please change the shape of y to (n_samples, ), for example using ravel().\n",
      "  y = column_or_1d(y, warn=True)\n"
     ]
    }
   ],
   "source": [
    "scores = cross_val_score(logreg, x_train, y_train, cv=cv, scoring=\"accuracy\")\n",
    "print(\"log reg Accuracy:\", scores.mean(), \"±\", scores.std())"
   ]
  },
  {
   "cell_type": "markdown",
   "id": "09c86a13",
   "metadata": {},
   "source": [
    "####################"
   ]
  },
  {
   "cell_type": "code",
   "execution_count": 49,
   "id": "f228919b",
   "metadata": {},
   "outputs": [],
   "source": [
    "dt = DecisionTreeClassifier(random_state=42)\n",
    "dt.fit(x_train, y_train)\n",
    "y_pred = dt.predict(x_test)"
   ]
  },
  {
   "cell_type": "code",
   "execution_count": 50,
   "id": "953486c3",
   "metadata": {},
   "outputs": [
    {
     "name": "stdout",
     "output_type": "stream",
     "text": [
      "=== dt  ===\n",
      "Accuracy : 0.8629032258064516\n",
      "Precision: 0.8629976580796253\n",
      "Recall   : 0.8629032258064516\n",
      "F1 Score : 0.8628943089430894\n",
      "[[54  8]\n",
      " [ 9 53]]\n"
     ]
    }
   ],
   "source": [
    "print(\"=== dt  ===\")\n",
    "print(\"Accuracy :\", accuracy_score(y_test, y_pred))\n",
    "print(\"Precision:\", precision_score(y_test, y_pred, average=\"macro\"))\n",
    "print(\"Recall   :\", recall_score(y_test, y_pred, average=\"macro\"))\n",
    "print(\"F1 Score :\", f1_score(y_test, y_pred, average=\"macro\"))\n",
    "cm = confusion_matrix(y_test, y_pred)\n",
    "print(cm)"
   ]
  },
  {
   "cell_type": "code",
   "execution_count": 51,
   "id": "6ca7a6c5",
   "metadata": {},
   "outputs": [
    {
     "name": "stdout",
     "output_type": "stream",
     "text": [
      "Decision Tree Accuracy: 0.8470156698745402 ± 0.015633039629992122\n"
     ]
    }
   ],
   "source": [
    "\n",
    "scores = cross_val_score(dt, x_train, y_train, cv=cv, scoring=\"accuracy\")\n",
    "print(\"Decision Tree Accuracy:\", scores.mean(), \"±\", scores.std())"
   ]
  },
  {
   "cell_type": "markdown",
   "id": "effff6e7",
   "metadata": {},
   "source": [
    "###################"
   ]
  },
  {
   "cell_type": "code",
   "execution_count": 52,
   "id": "0f4fb51e",
   "metadata": {},
   "outputs": [
    {
     "name": "stderr",
     "output_type": "stream",
     "text": [
      "c:\\Users\\zuz12\\AppData\\Local\\Programs\\Python\\Python312\\Lib\\site-packages\\sklearn\\base.py:1389: DataConversionWarning: A column-vector y was passed when a 1d array was expected. Please change the shape of y to (n_samples,), for example using ravel().\n",
      "  return fit_method(estimator, *args, **kwargs)\n"
     ]
    }
   ],
   "source": [
    "rf = RandomForestClassifier(n_estimators=100, random_state=42)\n",
    "rf.fit(x_train, y_train)\n",
    "y_pred = rf.predict(x_test)"
   ]
  },
  {
   "cell_type": "code",
   "execution_count": 53,
   "id": "51b7c5e7",
   "metadata": {},
   "outputs": [
    {
     "name": "stdout",
     "output_type": "stream",
     "text": [
      "=== rf  ===\n",
      "Accuracy : 0.8870967741935484\n",
      "Precision: 0.8875\n",
      "Recall   : 0.8870967741935484\n",
      "F1 Score : 0.8870673952641166\n",
      "[[54  8]\n",
      " [ 6 56]]\n"
     ]
    }
   ],
   "source": [
    "print(\"=== rf  ===\")\n",
    "print(\"Accuracy :\", accuracy_score(y_test, y_pred))\n",
    "print(\"Precision:\", precision_score(y_test, y_pred, average=\"macro\"))\n",
    "print(\"Recall   :\", recall_score(y_test, y_pred, average=\"macro\"))\n",
    "print(\"F1 Score :\", f1_score(y_test, y_pred, average=\"macro\"))\n",
    "cm = confusion_matrix(y_test, y_pred)\n",
    "print(cm)"
   ]
  },
  {
   "cell_type": "code",
   "execution_count": 54,
   "id": "871c7371",
   "metadata": {},
   "outputs": [
    {
     "name": "stderr",
     "output_type": "stream",
     "text": [
      "c:\\Users\\zuz12\\AppData\\Local\\Programs\\Python\\Python312\\Lib\\site-packages\\sklearn\\base.py:1389: DataConversionWarning: A column-vector y was passed when a 1d array was expected. Please change the shape of y to (n_samples,), for example using ravel().\n",
      "  return fit_method(estimator, *args, **kwargs)\n",
      "c:\\Users\\zuz12\\AppData\\Local\\Programs\\Python\\Python312\\Lib\\site-packages\\sklearn\\base.py:1389: DataConversionWarning: A column-vector y was passed when a 1d array was expected. Please change the shape of y to (n_samples,), for example using ravel().\n",
      "  return fit_method(estimator, *args, **kwargs)\n",
      "c:\\Users\\zuz12\\AppData\\Local\\Programs\\Python\\Python312\\Lib\\site-packages\\sklearn\\base.py:1389: DataConversionWarning: A column-vector y was passed when a 1d array was expected. Please change the shape of y to (n_samples,), for example using ravel().\n",
      "  return fit_method(estimator, *args, **kwargs)\n",
      "c:\\Users\\zuz12\\AppData\\Local\\Programs\\Python\\Python312\\Lib\\site-packages\\sklearn\\base.py:1389: DataConversionWarning: A column-vector y was passed when a 1d array was expected. Please change the shape of y to (n_samples,), for example using ravel().\n",
      "  return fit_method(estimator, *args, **kwargs)\n"
     ]
    },
    {
     "name": "stdout",
     "output_type": "stream",
     "text": [
      "Random Forest Accuracy: 0.9071335718244571 ± 0.011394595150562523\n"
     ]
    },
    {
     "name": "stderr",
     "output_type": "stream",
     "text": [
      "c:\\Users\\zuz12\\AppData\\Local\\Programs\\Python\\Python312\\Lib\\site-packages\\sklearn\\base.py:1389: DataConversionWarning: A column-vector y was passed when a 1d array was expected. Please change the shape of y to (n_samples,), for example using ravel().\n",
      "  return fit_method(estimator, *args, **kwargs)\n"
     ]
    }
   ],
   "source": [
    "scores = cross_val_score(rf, x_train, y_train, cv=cv, scoring=\"accuracy\")\n",
    "print(\"Random Forest Accuracy:\", scores.mean(), \"±\", scores.std())"
   ]
  },
  {
   "cell_type": "markdown",
   "id": "550d32d9",
   "metadata": {},
   "source": [
    "##################"
   ]
  },
  {
   "cell_type": "code",
   "execution_count": 55,
   "id": "1fe02f03",
   "metadata": {},
   "outputs": [
    {
     "name": "stderr",
     "output_type": "stream",
     "text": [
      "c:\\Users\\zuz12\\AppData\\Local\\Programs\\Python\\Python312\\Lib\\site-packages\\sklearn\\utils\\validation.py:1408: DataConversionWarning: A column-vector y was passed when a 1d array was expected. Please change the shape of y to (n_samples, ), for example using ravel().\n",
      "  y = column_or_1d(y, warn=True)\n"
     ]
    }
   ],
   "source": [
    "svm = SVC(kernel=\"rbf\", probability=True, random_state=42)\n",
    "svm.fit(x_train, y_train)\n",
    "y_pred = svm.predict(x_test)"
   ]
  },
  {
   "cell_type": "code",
   "execution_count": 56,
   "id": "07c3b153",
   "metadata": {},
   "outputs": [
    {
     "name": "stdout",
     "output_type": "stream",
     "text": [
      "=== SVM (RBF) ===\n",
      "Accuracy : 0.9193548387096774\n",
      "Precision: 0.9197916666666667\n",
      "Recall   : 0.9193548387096774\n",
      "F1 Score : 0.9193338537600833\n"
     ]
    },
    {
     "data": {
      "text/plain": [
       "array([[56,  6],\n",
       "       [ 4, 58]])"
      ]
     },
     "execution_count": 56,
     "metadata": {},
     "output_type": "execute_result"
    }
   ],
   "source": [
    "print(\"=== SVM (RBF) ===\")\n",
    "print(\"Accuracy :\", accuracy_score(y_test, y_pred))\n",
    "print(\"Precision:\", precision_score(y_test, y_pred, average=\"macro\"))\n",
    "print(\"Recall   :\", recall_score(y_test, y_pred, average=\"macro\"))\n",
    "print(\"F1 Score :\", f1_score(y_test, y_pred, average=\"macro\"))\n",
    "cm = confusion_matrix(y_test, y_pred)\n",
    "cm"
   ]
  },
  {
   "cell_type": "code",
   "execution_count": 57,
   "id": "904e6e6d",
   "metadata": {},
   "outputs": [
    {
     "name": "stderr",
     "output_type": "stream",
     "text": [
      "c:\\Users\\zuz12\\AppData\\Local\\Programs\\Python\\Python312\\Lib\\site-packages\\sklearn\\utils\\validation.py:1408: DataConversionWarning: A column-vector y was passed when a 1d array was expected. Please change the shape of y to (n_samples, ), for example using ravel().\n",
      "  y = column_or_1d(y, warn=True)\n",
      "c:\\Users\\zuz12\\AppData\\Local\\Programs\\Python\\Python312\\Lib\\site-packages\\sklearn\\utils\\validation.py:1408: DataConversionWarning: A column-vector y was passed when a 1d array was expected. Please change the shape of y to (n_samples, ), for example using ravel().\n",
      "  y = column_or_1d(y, warn=True)\n",
      "c:\\Users\\zuz12\\AppData\\Local\\Programs\\Python\\Python312\\Lib\\site-packages\\sklearn\\utils\\validation.py:1408: DataConversionWarning: A column-vector y was passed when a 1d array was expected. Please change the shape of y to (n_samples, ), for example using ravel().\n",
      "  y = column_or_1d(y, warn=True)\n",
      "c:\\Users\\zuz12\\AppData\\Local\\Programs\\Python\\Python312\\Lib\\site-packages\\sklearn\\utils\\validation.py:1408: DataConversionWarning: A column-vector y was passed when a 1d array was expected. Please change the shape of y to (n_samples, ), for example using ravel().\n",
      "  y = column_or_1d(y, warn=True)\n"
     ]
    },
    {
     "name": "stdout",
     "output_type": "stream",
     "text": [
      "SVM (RBF) Accuracy: 0.9246294150249408 ± 0.009039283966164638\n"
     ]
    },
    {
     "name": "stderr",
     "output_type": "stream",
     "text": [
      "c:\\Users\\zuz12\\AppData\\Local\\Programs\\Python\\Python312\\Lib\\site-packages\\sklearn\\utils\\validation.py:1408: DataConversionWarning: A column-vector y was passed when a 1d array was expected. Please change the shape of y to (n_samples, ), for example using ravel().\n",
      "  y = column_or_1d(y, warn=True)\n"
     ]
    }
   ],
   "source": [
    "scores = cross_val_score(svm, x_train, y_train, cv=cv, scoring=\"accuracy\")\n",
    "print(\"SVM (RBF) Accuracy:\", scores.mean(), \"±\", scores.std())"
   ]
  },
  {
   "cell_type": "markdown",
   "id": "c78759a4",
   "metadata": {},
   "source": [
    "##########################"
   ]
  },
  {
   "cell_type": "code",
   "execution_count": 58,
   "id": "f9279632",
   "metadata": {},
   "outputs": [
    {
     "name": "stderr",
     "output_type": "stream",
     "text": [
      "c:\\Users\\zuz12\\AppData\\Local\\Programs\\Python\\Python312\\Lib\\site-packages\\xgboost\\training.py:183: UserWarning: [23:57:49] WARNING: C:\\actions-runner\\_work\\xgboost\\xgboost\\src\\learner.cc:738: \n",
      "Parameters: { \"use_label_encoder\" } are not used.\n",
      "\n",
      "  bst.update(dtrain, iteration=i, fobj=obj)\n"
     ]
    }
   ],
   "source": [
    "xgb_model = xgb.XGBClassifier(use_label_encoder=False, eval_metric=\"mlogloss\", random_state=42)\n",
    "xgb_model.fit(x_train, y_train)\n",
    "y_pred = xgb_model.predict(x_test)"
   ]
  },
  {
   "cell_type": "code",
   "execution_count": 59,
   "id": "aa45d2b0",
   "metadata": {},
   "outputs": [
    {
     "name": "stdout",
     "output_type": "stream",
     "text": [
      "=== XGBoost ===\n",
      "Accuracy : 0.9032258064516129\n",
      "Precision: 0.9036458333333333\n",
      "Recall   : 0.9032258064516129\n",
      "F1 Score : 0.9032006245120999\n"
     ]
    },
    {
     "data": {
      "text/plain": [
       "array([[55,  7],\n",
       "       [ 5, 57]])"
      ]
     },
     "execution_count": 59,
     "metadata": {},
     "output_type": "execute_result"
    }
   ],
   "source": [
    "print(\"=== XGBoost ===\")\n",
    "print(\"Accuracy :\", accuracy_score(y_test, y_pred))\n",
    "print(\"Precision:\", precision_score(y_test, y_pred, average=\"macro\"))\n",
    "print(\"Recall   :\", recall_score(y_test, y_pred, average=\"macro\"))\n",
    "print(\"F1 Score :\", f1_score(y_test, y_pred, average=\"macro\"))\n",
    "\n",
    "cm = confusion_matrix(y_test, y_pred)\n",
    "cm"
   ]
  },
  {
   "cell_type": "code",
   "execution_count": 60,
   "id": "7b214bfc",
   "metadata": {},
   "outputs": [
    {
     "name": "stderr",
     "output_type": "stream",
     "text": [
      "c:\\Users\\zuz12\\AppData\\Local\\Programs\\Python\\Python312\\Lib\\site-packages\\xgboost\\training.py:183: UserWarning: [23:57:54] WARNING: C:\\actions-runner\\_work\\xgboost\\xgboost\\src\\learner.cc:738: \n",
      "Parameters: { \"use_label_encoder\" } are not used.\n",
      "\n",
      "  bst.update(dtrain, iteration=i, fobj=obj)\n",
      "c:\\Users\\zuz12\\AppData\\Local\\Programs\\Python\\Python312\\Lib\\site-packages\\xgboost\\training.py:183: UserWarning: [23:57:54] WARNING: C:\\actions-runner\\_work\\xgboost\\xgboost\\src\\learner.cc:738: \n",
      "Parameters: { \"use_label_encoder\" } are not used.\n",
      "\n",
      "  bst.update(dtrain, iteration=i, fobj=obj)\n",
      "c:\\Users\\zuz12\\AppData\\Local\\Programs\\Python\\Python312\\Lib\\site-packages\\xgboost\\training.py:183: UserWarning: [23:57:54] WARNING: C:\\actions-runner\\_work\\xgboost\\xgboost\\src\\learner.cc:738: \n",
      "Parameters: { \"use_label_encoder\" } are not used.\n",
      "\n",
      "  bst.update(dtrain, iteration=i, fobj=obj)\n",
      "c:\\Users\\zuz12\\AppData\\Local\\Programs\\Python\\Python312\\Lib\\site-packages\\xgboost\\training.py:183: UserWarning: [23:57:54] WARNING: C:\\actions-runner\\_work\\xgboost\\xgboost\\src\\learner.cc:738: \n",
      "Parameters: { \"use_label_encoder\" } are not used.\n",
      "\n",
      "  bst.update(dtrain, iteration=i, fobj=obj)\n"
     ]
    },
    {
     "name": "stdout",
     "output_type": "stream",
     "text": [
      "XGBoost Accuracy: 0.9030966896760215 ± 0.013096190086230372\n"
     ]
    },
    {
     "name": "stderr",
     "output_type": "stream",
     "text": [
      "c:\\Users\\zuz12\\AppData\\Local\\Programs\\Python\\Python312\\Lib\\site-packages\\xgboost\\training.py:183: UserWarning: [23:57:54] WARNING: C:\\actions-runner\\_work\\xgboost\\xgboost\\src\\learner.cc:738: \n",
      "Parameters: { \"use_label_encoder\" } are not used.\n",
      "\n",
      "  bst.update(dtrain, iteration=i, fobj=obj)\n"
     ]
    }
   ],
   "source": [
    "\n",
    "scores = cross_val_score(xgb_model, x_train, y_train, cv=cv, scoring=\"accuracy\")\n",
    "print(\"XGBoost Accuracy:\", scores.mean(), \"±\", scores.std())\n"
   ]
  },
  {
   "cell_type": "markdown",
   "id": "52307daf",
   "metadata": {},
   "source": [
    "####################"
   ]
  },
  {
   "cell_type": "code",
   "execution_count": 61,
   "id": "d0c8b532",
   "metadata": {},
   "outputs": [
    {
     "name": "stdout",
     "output_type": "stream",
     "text": [
      "=== KNN ===\n",
      "Accuracy : 0.9032258064516129\n",
      "Precision: 0.9036458333333333\n",
      "Recall   : 0.9032258064516129\n",
      "F1 Score : 0.9032006245120999\n"
     ]
    },
    {
     "name": "stderr",
     "output_type": "stream",
     "text": [
      "c:\\Users\\zuz12\\AppData\\Local\\Programs\\Python\\Python312\\Lib\\site-packages\\sklearn\\neighbors\\_classification.py:239: DataConversionWarning: A column-vector y was passed when a 1d array was expected. Please change the shape of y to (n_samples,), for example using ravel().\n",
      "  return self._fit(X, y)\n"
     ]
    },
    {
     "data": {
      "text/plain": [
       "array([[55,  7],\n",
       "       [ 5, 57]])"
      ]
     },
     "execution_count": 61,
     "metadata": {},
     "output_type": "execute_result"
    }
   ],
   "source": [
    "from sklearn.neighbors import KNeighborsClassifier\n",
    "knn = KNeighborsClassifier(n_neighbors=5)\n",
    "knn.fit(x_train, y_train)\n",
    "print(\"=== KNN ===\")\n",
    "print(\"Accuracy :\", accuracy_score(y_test, y_pred))\n",
    "print(\"Precision:\", precision_score(y_test, y_pred, average=\"macro\"))\n",
    "print(\"Recall   :\", recall_score(y_test, y_pred, average=\"macro\"))\n",
    "print(\"F1 Score :\", f1_score(y_test, y_pred, average=\"macro\"))\n",
    "\n",
    "cm = confusion_matrix(y_test, y_pred)\n",
    "cm"
   ]
  },
  {
   "cell_type": "code",
   "execution_count": 62,
   "id": "f981730d",
   "metadata": {},
   "outputs": [
    {
     "name": "stdout",
     "output_type": "stream",
     "text": [
      "Knn Accuracy: 0.9196956718899582 ± 0.014204672269534676\n"
     ]
    },
    {
     "name": "stderr",
     "output_type": "stream",
     "text": [
      "c:\\Users\\zuz12\\AppData\\Local\\Programs\\Python\\Python312\\Lib\\site-packages\\sklearn\\neighbors\\_classification.py:239: DataConversionWarning: A column-vector y was passed when a 1d array was expected. Please change the shape of y to (n_samples,), for example using ravel().\n",
      "  return self._fit(X, y)\n",
      "c:\\Users\\zuz12\\AppData\\Local\\Programs\\Python\\Python312\\Lib\\site-packages\\sklearn\\neighbors\\_classification.py:239: DataConversionWarning: A column-vector y was passed when a 1d array was expected. Please change the shape of y to (n_samples,), for example using ravel().\n",
      "  return self._fit(X, y)\n",
      "c:\\Users\\zuz12\\AppData\\Local\\Programs\\Python\\Python312\\Lib\\site-packages\\sklearn\\neighbors\\_classification.py:239: DataConversionWarning: A column-vector y was passed when a 1d array was expected. Please change the shape of y to (n_samples,), for example using ravel().\n",
      "  return self._fit(X, y)\n",
      "c:\\Users\\zuz12\\AppData\\Local\\Programs\\Python\\Python312\\Lib\\site-packages\\sklearn\\neighbors\\_classification.py:239: DataConversionWarning: A column-vector y was passed when a 1d array was expected. Please change the shape of y to (n_samples,), for example using ravel().\n",
      "  return self._fit(X, y)\n",
      "c:\\Users\\zuz12\\AppData\\Local\\Programs\\Python\\Python312\\Lib\\site-packages\\sklearn\\neighbors\\_classification.py:239: DataConversionWarning: A column-vector y was passed when a 1d array was expected. Please change the shape of y to (n_samples,), for example using ravel().\n",
      "  return self._fit(X, y)\n"
     ]
    }
   ],
   "source": [
    "scores = cross_val_score(knn, x_train, y_train, cv=cv, scoring=\"accuracy\")\n",
    "print(\"Knn Accuracy:\", scores.mean(), \"±\", scores.std())"
   ]
  },
  {
   "cell_type": "markdown",
   "id": "8bbd914e",
   "metadata": {},
   "source": [
    "##########"
   ]
  },
  {
   "cell_type": "code",
   "execution_count": 63,
   "id": "9919d861",
   "metadata": {},
   "outputs": [
    {
     "name": "stderr",
     "output_type": "stream",
     "text": [
      "c:\\Users\\zuz12\\AppData\\Local\\Programs\\Python\\Python312\\Lib\\site-packages\\sklearn\\preprocessing\\_label.py:93: DataConversionWarning: A column-vector y was passed when a 1d array was expected. Please change the shape of y to (n_samples, ), for example using ravel().\n",
      "  y = column_or_1d(y, warn=True)\n",
      "c:\\Users\\zuz12\\AppData\\Local\\Programs\\Python\\Python312\\Lib\\site-packages\\sklearn\\preprocessing\\_label.py:129: DataConversionWarning: A column-vector y was passed when a 1d array was expected. Please change the shape of y to (n_samples, ), for example using ravel().\n",
      "  y = column_or_1d(y, dtype=self.classes_.dtype, warn=True)\n",
      "c:\\Users\\zuz12\\AppData\\Local\\Programs\\Python\\Python312\\Lib\\site-packages\\xgboost\\training.py:183: UserWarning: [23:58:04] WARNING: C:\\actions-runner\\_work\\xgboost\\xgboost\\src\\learner.cc:738: \n",
      "Parameters: { \"use_label_encoder\" } are not used.\n",
      "\n",
      "  bst.update(dtrain, iteration=i, fobj=obj)\n",
      "c:\\Users\\zuz12\\AppData\\Local\\Programs\\Python\\Python312\\Lib\\site-packages\\sklearn\\preprocessing\\_label.py:93: DataConversionWarning: A column-vector y was passed when a 1d array was expected. Please change the shape of y to (n_samples, ), for example using ravel().\n",
      "  y = column_or_1d(y, warn=True)\n",
      "c:\\Users\\zuz12\\AppData\\Local\\Programs\\Python\\Python312\\Lib\\site-packages\\sklearn\\preprocessing\\_label.py:129: DataConversionWarning: A column-vector y was passed when a 1d array was expected. Please change the shape of y to (n_samples, ), for example using ravel().\n",
      "  y = column_or_1d(y, dtype=self.classes_.dtype, warn=True)\n",
      "c:\\Users\\zuz12\\AppData\\Local\\Programs\\Python\\Python312\\Lib\\site-packages\\xgboost\\training.py:183: UserWarning: [23:58:04] WARNING: C:\\actions-runner\\_work\\xgboost\\xgboost\\src\\learner.cc:738: \n",
      "Parameters: { \"use_label_encoder\" } are not used.\n",
      "\n",
      "  bst.update(dtrain, iteration=i, fobj=obj)\n"
     ]
    }
   ],
   "source": [
    "\n",
    "hard_vote = VotingClassifier(\n",
    "    estimators=[(\"logreg\", logreg), (\"rf\", rf), (\"xgb\", xgb_model), (\"dt\", dt),(\"svm\",svm),(\"knn\",knn)],\n",
    "    voting=\"hard\"\n",
    ")\n",
    "hard_vote.fit(x_train, y_train)\n",
    "y_pred = hard_vote.predict(x_test)\n",
    "\n",
    "\n",
    "soft_vote = VotingClassifier(\n",
    "    estimators=[(\"logreg\", logreg), (\"rf\", rf), (\"xgb\", xgb_model), (\"dt\", dt),(\"svm\",svm),(\"knn\",knn)],\n",
    "    voting=\"soft\"\n",
    ")\n",
    "soft_vote.fit(x_train, y_train)\n",
    "y_pred_soft = soft_vote.predict(x_test)"
   ]
  },
  {
   "cell_type": "code",
   "execution_count": 64,
   "id": "ea4b2ba6",
   "metadata": {},
   "outputs": [
    {
     "name": "stdout",
     "output_type": "stream",
     "text": [
      "Hard Voting Accuracy: 0.9032258064516129\n",
      "              precision    recall  f1-score   support\n",
      "\n",
      "           0       0.92      0.89      0.90        62\n",
      "           1       0.89      0.92      0.90        62\n",
      "\n",
      "    accuracy                           0.90       124\n",
      "   macro avg       0.90      0.90      0.90       124\n",
      "weighted avg       0.90      0.90      0.90       124\n",
      "\n"
     ]
    },
    {
     "data": {
      "text/plain": [
       "<sklearn.metrics._plot.confusion_matrix.ConfusionMatrixDisplay at 0x205c21d7260>"
      ]
     },
     "execution_count": 64,
     "metadata": {},
     "output_type": "execute_result"
    }
   ],
   "source": [
    "print(\"Hard Voting Accuracy:\", accuracy_score(y_test, y_pred))\n",
    "print(classification_report(y_test, y_pred))\n",
    "ConfusionMatrixDisplay(confusion_matrix(y_test, y_pred))\n",
    "\n",
    "\n",
    "\n"
   ]
  },
  {
   "cell_type": "code",
   "execution_count": 65,
   "id": "f0b35798",
   "metadata": {},
   "outputs": [
    {
     "name": "stdout",
     "output_type": "stream",
     "text": [
      "Soft Voting Accuracy: 0.9112903225806451\n",
      "              precision    recall  f1-score   support\n",
      "\n",
      "           0       0.93      0.89      0.91        62\n",
      "           1       0.89      0.94      0.91        62\n",
      "\n",
      "    accuracy                           0.91       124\n",
      "   macro avg       0.91      0.91      0.91       124\n",
      "weighted avg       0.91      0.91      0.91       124\n",
      "\n"
     ]
    }
   ],
   "source": [
    "print(\"Soft Voting Accuracy:\", accuracy_score(y_test, y_pred_soft))\n",
    "print(classification_report(y_test, y_pred_soft))"
   ]
  }
 ],
 "metadata": {
  "kernelspec": {
   "display_name": "Python 3",
   "language": "python",
   "name": "python3"
  },
  "language_info": {
   "codemirror_mode": {
    "name": "ipython",
    "version": 3
   },
   "file_extension": ".py",
   "mimetype": "text/x-python",
   "name": "python",
   "nbconvert_exporter": "python",
   "pygments_lexer": "ipython3",
   "version": "3.12.4"
  }
 },
 "nbformat": 4,
 "nbformat_minor": 5
}
